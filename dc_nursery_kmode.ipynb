{
  "nbformat": 4,
  "nbformat_minor": 0,
  "metadata": {
    "colab": {
      "name": "dc_nursery_kmode.ipynb",
      "provenance": [],
      "collapsed_sections": []
    },
    "kernelspec": {
      "name": "python3",
      "display_name": "Python 3"
    },
    "accelerator": "GPU"
  },
  "cells": [
    {
      "cell_type": "code",
      "metadata": {
        "id": "Y8LIdxig0O9F",
        "colab": {
          "base_uri": "https://localhost:8080/"
        },
        "outputId": "754f1b39-95b4-4930-ce6b-c7bca00e4224"
      },
      "source": [
        "from google.colab import drive\n",
        "drive.mount('/content/drive')"
      ],
      "execution_count": null,
      "outputs": [
        {
          "output_type": "stream",
          "text": [
            "Mounted at /content/drive\n"
          ],
          "name": "stdout"
        }
      ]
    },
    {
      "cell_type": "code",
      "metadata": {
        "id": "UaWOw1Z619YG",
        "colab": {
          "base_uri": "https://localhost:8080/",
          "height": 419
        },
        "outputId": "a77444da-4e1a-478f-92fe-1f054b2a61c2"
      },
      "source": [
        "import pandas as pd\n",
        "df = pd.read_csv('/content/drive/My Drive/dataset/nursery.csv')\n",
        "df=df[:500]\n",
        "import random \n",
        "df"
      ],
      "execution_count": null,
      "outputs": [
        {
          "output_type": "execute_result",
          "data": {
            "text/html": [
              "<div>\n",
              "<style scoped>\n",
              "    .dataframe tbody tr th:only-of-type {\n",
              "        vertical-align: middle;\n",
              "    }\n",
              "\n",
              "    .dataframe tbody tr th {\n",
              "        vertical-align: top;\n",
              "    }\n",
              "\n",
              "    .dataframe thead th {\n",
              "        text-align: right;\n",
              "    }\n",
              "</style>\n",
              "<table border=\"1\" class=\"dataframe\">\n",
              "  <thead>\n",
              "    <tr style=\"text-align: right;\">\n",
              "      <th></th>\n",
              "      <th>Unnamed: 0</th>\n",
              "      <th>Unnamed: 1</th>\n",
              "      <th>Unnamed: 2</th>\n",
              "      <th>Unnamed: 3</th>\n",
              "      <th>Unnamed: 4</th>\n",
              "      <th>Unnamed: 5</th>\n",
              "      <th>Unnamed: 6</th>\n",
              "      <th>Unnamed: 7</th>\n",
              "      <th>Unnamed: 8</th>\n",
              "    </tr>\n",
              "  </thead>\n",
              "  <tbody>\n",
              "    <tr>\n",
              "      <th>0</th>\n",
              "      <td>usual</td>\n",
              "      <td>proper</td>\n",
              "      <td>complete</td>\n",
              "      <td>1</td>\n",
              "      <td>convenient</td>\n",
              "      <td>convenient</td>\n",
              "      <td>nonprob</td>\n",
              "      <td>recommended</td>\n",
              "      <td>recommend</td>\n",
              "    </tr>\n",
              "    <tr>\n",
              "      <th>1</th>\n",
              "      <td>usual</td>\n",
              "      <td>proper</td>\n",
              "      <td>complete</td>\n",
              "      <td>1</td>\n",
              "      <td>convenient</td>\n",
              "      <td>convenient</td>\n",
              "      <td>nonprob</td>\n",
              "      <td>not_recom</td>\n",
              "      <td>not_recom</td>\n",
              "    </tr>\n",
              "    <tr>\n",
              "      <th>2</th>\n",
              "      <td>usual</td>\n",
              "      <td>proper</td>\n",
              "      <td>complete</td>\n",
              "      <td>1</td>\n",
              "      <td>convenient</td>\n",
              "      <td>convenient</td>\n",
              "      <td>slightly_prob</td>\n",
              "      <td>priority</td>\n",
              "      <td>priority</td>\n",
              "    </tr>\n",
              "    <tr>\n",
              "      <th>3</th>\n",
              "      <td>usual</td>\n",
              "      <td>proper</td>\n",
              "      <td>complete</td>\n",
              "      <td>1</td>\n",
              "      <td>convenient</td>\n",
              "      <td>convenient</td>\n",
              "      <td>problematic</td>\n",
              "      <td>recommended</td>\n",
              "      <td>priority</td>\n",
              "    </tr>\n",
              "    <tr>\n",
              "      <th>4</th>\n",
              "      <td>usual</td>\n",
              "      <td>proper</td>\n",
              "      <td>complete</td>\n",
              "      <td>1</td>\n",
              "      <td>convenient</td>\n",
              "      <td>convenient</td>\n",
              "      <td>problematic</td>\n",
              "      <td>priority</td>\n",
              "      <td>priority</td>\n",
              "    </tr>\n",
              "    <tr>\n",
              "      <th>...</th>\n",
              "      <td>...</td>\n",
              "      <td>...</td>\n",
              "      <td>...</td>\n",
              "      <td>...</td>\n",
              "      <td>...</td>\n",
              "      <td>...</td>\n",
              "      <td>...</td>\n",
              "      <td>...</td>\n",
              "      <td>...</td>\n",
              "    </tr>\n",
              "    <tr>\n",
              "      <th>495</th>\n",
              "      <td>usual</td>\n",
              "      <td>proper</td>\n",
              "      <td>incomplete</td>\n",
              "      <td>3</td>\n",
              "      <td>convenient</td>\n",
              "      <td>convenient</td>\n",
              "      <td>problematic</td>\n",
              "      <td>priority</td>\n",
              "      <td>priority</td>\n",
              "    </tr>\n",
              "    <tr>\n",
              "      <th>496</th>\n",
              "      <td>usual</td>\n",
              "      <td>proper</td>\n",
              "      <td>incomplete</td>\n",
              "      <td>3</td>\n",
              "      <td>convenient</td>\n",
              "      <td>convenient</td>\n",
              "      <td>problematic</td>\n",
              "      <td>not_recom</td>\n",
              "      <td>not_recom</td>\n",
              "    </tr>\n",
              "    <tr>\n",
              "      <th>497</th>\n",
              "      <td>usual</td>\n",
              "      <td>proper</td>\n",
              "      <td>incomplete</td>\n",
              "      <td>3</td>\n",
              "      <td>convenient</td>\n",
              "      <td>inconv</td>\n",
              "      <td>nonprob</td>\n",
              "      <td>recommended</td>\n",
              "      <td>priority</td>\n",
              "    </tr>\n",
              "    <tr>\n",
              "      <th>498</th>\n",
              "      <td>usual</td>\n",
              "      <td>proper</td>\n",
              "      <td>incomplete</td>\n",
              "      <td>3</td>\n",
              "      <td>convenient</td>\n",
              "      <td>inconv</td>\n",
              "      <td>nonprob</td>\n",
              "      <td>priority</td>\n",
              "      <td>priority</td>\n",
              "    </tr>\n",
              "    <tr>\n",
              "      <th>499</th>\n",
              "      <td>usual</td>\n",
              "      <td>proper</td>\n",
              "      <td>incomplete</td>\n",
              "      <td>3</td>\n",
              "      <td>convenient</td>\n",
              "      <td>inconv</td>\n",
              "      <td>nonprob</td>\n",
              "      <td>not_recom</td>\n",
              "      <td>not_recom</td>\n",
              "    </tr>\n",
              "  </tbody>\n",
              "</table>\n",
              "<p>500 rows × 9 columns</p>\n",
              "</div>"
            ],
            "text/plain": [
              "    Unnamed: 0 Unnamed: 1  ...    Unnamed: 7  Unnamed: 8\n",
              "0        usual     proper  ...   recommended   recommend\n",
              "1        usual     proper  ...     not_recom   not_recom\n",
              "2        usual     proper  ...      priority    priority\n",
              "3        usual     proper  ...   recommended    priority\n",
              "4        usual     proper  ...      priority    priority\n",
              "..         ...        ...  ...           ...         ...\n",
              "495      usual     proper  ...      priority    priority\n",
              "496      usual     proper  ...     not_recom   not_recom\n",
              "497      usual     proper  ...   recommended    priority\n",
              "498      usual     proper  ...      priority    priority\n",
              "499      usual     proper  ...     not_recom   not_recom\n",
              "\n",
              "[500 rows x 9 columns]"
            ]
          },
          "metadata": {
            "tags": []
          },
          "execution_count": 2
        }
      ]
    },
    {
      "cell_type": "code",
      "metadata": {
        "id": "gWu1FTMt2E0b",
        "colab": {
          "base_uri": "https://localhost:8080/"
        },
        "outputId": "f36c86b0-f92e-45f0-d622-1bf3be840de8"
      },
      "source": [
        "import numpy as np \n",
        "import math\n",
        "entropy=np.array(np.zeros((8,1), dtype=float))\n",
        "val=0\n",
        "bro=0\n",
        "for j in range(0,8):\n",
        "  category=set(df.iloc[:,j])\n",
        "  cnt=0\n",
        "  val=0\n",
        "  print(category)\n",
        "  for z in category:\n",
        "    cnt=0\n",
        "    for i in range(500):\n",
        "      if(df.iloc[i][j]==z):\n",
        "        cnt+=1\n",
        "    prob=cnt/500\n",
        "    log_prob=math.log(prob)\n",
        "    val+=(prob*log_prob)\n",
        "  if(bro<8):\n",
        "    entropy[bro]=-1*val\n",
        "    bro+=1\n",
        "    \n",
        "  category={}\n",
        "print(entropy)\n",
        "\n",
        "#ordinal = 4 , 5 ,7\n",
        "#nominal = 2,3,6"
      ],
      "execution_count": null,
      "outputs": [
        {
          "output_type": "stream",
          "text": [
            "{'usual'}\n",
            "{' proper'}\n",
            "{' completed', ' complete', ' incomplete'}\n",
            "{'3', '1', '2', ' more'}\n",
            "{' convenient', ' critical', ' less_conv'}\n",
            "{' convenient', ' inconv'}\n",
            "{' nonprob', ' problematic', ' slightly_prob'}\n",
            "{' recommended', ' priority', ' not_recom'}\n",
            "[[-0.        ]\n",
            " [-0.        ]\n",
            " [ 1.0663421 ]\n",
            " [ 1.37077737]\n",
            " [ 1.09750906]\n",
            " [ 0.69313918]\n",
            " [ 1.09819778]\n",
            " [ 1.09841665]]\n"
          ],
          "name": "stdout"
        }
      ]
    },
    {
      "cell_type": "code",
      "metadata": {
        "id": "8fQOfu8-2dwq",
        "colab": {
          "base_uri": "https://localhost:8080/"
        },
        "outputId": "78925762-4dc3-4bb0-c66d-fdc61302f7e8"
      },
      "source": [
        "reliability=entropy[2:]\n",
        "reliability"
      ],
      "execution_count": null,
      "outputs": [
        {
          "output_type": "execute_result",
          "data": {
            "text/plain": [
              "array([[1.0663421 ],\n",
              "       [1.37077737],\n",
              "       [1.09750906],\n",
              "       [0.69313918],\n",
              "       [1.09819778],\n",
              "       [1.09841665]])"
            ]
          },
          "metadata": {
            "tags": []
          },
          "execution_count": 4
        }
      ]
    },
    {
      "cell_type": "code",
      "metadata": {
        "id": "o6PPgvoc2mLv",
        "colab": {
          "base_uri": "https://localhost:8080/"
        },
        "outputId": "1c787937-8c7d-4af4-d170-7181f3840df8"
      },
      "source": [
        "weight=np.array(np.zeros((6,1),dtype=float))\n",
        "for i in range(6):\n",
        "  weight[i]=reliability[i]/np.sum(reliability)\n",
        "weight"
      ],
      "execution_count": null,
      "outputs": [
        {
          "output_type": "execute_result",
          "data": {
            "text/plain": [
              "array([[0.1659836 ],\n",
              "       [0.21337108],\n",
              "       [0.17083496],\n",
              "       [0.10789196],\n",
              "       [0.17094216],\n",
              "       [0.17097623]])"
            ]
          },
          "metadata": {
            "tags": []
          },
          "execution_count": 5
        }
      ]
    },
    {
      "cell_type": "code",
      "metadata": {
        "id": "z4OVxZCd4GkF",
        "colab": {
          "base_uri": "https://localhost:8080/"
        },
        "outputId": "01366cf1-cefb-4e21-81b2-dc9af7626ea8"
      },
      "source": [
        "classes=set(df.iloc[:,8])\n",
        "classes"
      ],
      "execution_count": null,
      "outputs": [
        {
          "output_type": "execute_result",
          "data": {
            "text/plain": [
              "{' not_recom', ' priority', ' recommend', ' very_recom'}"
            ]
          },
          "metadata": {
            "tags": []
          },
          "execution_count": 6
        }
      ]
    },
    {
      "cell_type": "code",
      "metadata": {
        "id": "CSKnRnbB5dMR",
        "colab": {
          "base_uri": "https://localhost:8080/"
        },
        "outputId": "e049806f-50e8-459c-9db6-feabbfe5ab4d"
      },
      "source": [
        "#distance matrix will be of the form attribute * attribute (6*6) in this case :\n",
        "#applying algorithm : \n",
        "ordinal=[2,3,5]\n",
        "nominal=[0,1,4]\n",
        "distance_mat=np.array(np.zeros((6,6),dtype=float))\n",
        "v_mat=np.array(np.zeros((6,6),dtype=float))\n",
        "for i in ordinal :\n",
        "  for j in range(6):\n",
        "      start=min(i,j)\n",
        "      end=max(i,j)\n",
        "      sum=0\n",
        "      for i in range(start,end):\n",
        "        if(i in ordinal):\n",
        "          sum+=reliability[i]\n",
        "      if(j in ordinal and i != j):\n",
        "        v_mat[j][i]=weight[i]*sum\n",
        "#nominal which is not in order so will be directly adding the sum thing here in this .\n",
        "for i in nominal :\n",
        "  for j in range(6):\n",
        "    start=min(i,j)\n",
        "    end=max(i,j)\n",
        "    sum=0\n",
        "    if(j in nominal and i != j):\n",
        "      v_mat[j][i]=weight[i]*(reliability[start]+reliability[end])\n",
        "v_mat\n"
      ],
      "execution_count": null,
      "outputs": [
        {
          "output_type": "execute_result",
          "data": {
            "text/plain": [
              "array([[0.        , 0.52001082, 0.        , 0.        , 0.37001113,\n",
              "        0.        ],\n",
              "       [0.40452187, 0.        , 0.        , 0.        , 0.42205195,\n",
              "        0.        ],\n",
              "       [0.        , 0.        , 0.        , 0.        , 0.        ,\n",
              "        0.        ],\n",
              "       [0.        , 0.        , 0.18749291, 0.        , 0.        ,\n",
              "        0.        ],\n",
              "       [0.35927813, 0.5268079 , 0.        , 0.        , 0.        ,\n",
              "        0.        ],\n",
              "       [0.        , 0.        , 0.        , 0.        , 0.11848671,\n",
              "        0.        ]])"
            ]
          },
          "metadata": {
            "tags": []
          },
          "execution_count": 12
        }
      ]
    },
    {
      "cell_type": "code",
      "metadata": {
        "id": "lRLlipYoRmSq"
      },
      "source": [
        "def distance(a,b):\n",
        "  sum=0\n",
        "  for i in range(6):\n",
        "    sum+=((a[i]-b[i])**2)\n",
        "  return math.sqrt(sum)"
      ],
      "execution_count": null,
      "outputs": []
    },
    {
      "cell_type": "code",
      "metadata": {
        "id": "Nz_-scNUH3Np",
        "colab": {
          "base_uri": "https://localhost:8080/"
        },
        "outputId": "db167f20-f60e-4373-f68e-79a91174f3e3"
      },
      "source": [
        "#now will be calculating distance matrix : \n",
        "for i in range(6):\n",
        "  for j in range(6):\n",
        "    distance_mat[i][j]=distance(v_mat[i],v_mat[j])\n",
        "distance_mat\n"
      ],
      "execution_count": null,
      "outputs": [
        {
          "output_type": "execute_result",
          "data": {
            "text/plain": [
              "array([[0.        , 0.66087627, 0.63821586, 0.6651865 , 0.51578601,\n",
              "        0.57764676],\n",
              "       [0.66087627, 0.        , 0.58460739, 0.61393761, 0.67653633,\n",
              "        0.50575666],\n",
              "       [0.63821586, 0.58460739, 0.        , 0.18749291, 0.63765769,\n",
              "        0.11848671],\n",
              "       [0.6651865 , 0.61393761, 0.18749291, 0.        , 0.66465098,\n",
              "        0.22179426],\n",
              "       [0.51578601, 0.67653633, 0.63765769, 0.66465098, 0.        ,\n",
              "        0.64857261],\n",
              "       [0.57764676, 0.50575666, 0.11848671, 0.22179426, 0.64857261,\n",
              "        0.        ]])"
            ]
          },
          "metadata": {
            "tags": []
          },
          "execution_count": 14
        }
      ]
    },
    {
      "cell_type": "code",
      "metadata": {
        "id": "0PBQf2_CR6ib",
        "colab": {
          "base_uri": "https://localhost:8080/"
        },
        "outputId": "40fab096-9574-4919-e4f8-5d9d331df1dc"
      },
      "source": [
        "len(df)"
      ],
      "execution_count": null,
      "outputs": [
        {
          "output_type": "execute_result",
          "data": {
            "text/plain": [
              "500"
            ]
          },
          "metadata": {
            "tags": []
          },
          "execution_count": 7
        }
      ]
    },
    {
      "cell_type": "code",
      "metadata": {
        "id": "yC9L1Mx6U9Pm"
      },
      "source": [
        "def Rand(start, end, num): \n",
        "    res = [] \n",
        "  \n",
        "    for j in range(num): \n",
        "        res.append(random.randint(start, end)) \n",
        "  \n",
        "    return res "
      ],
      "execution_count": null,
      "outputs": []
    },
    {
      "cell_type": "code",
      "metadata": {
        "colab": {
          "base_uri": "https://localhost:8080/"
        },
        "id": "1W5PO2WUVSL2",
        "outputId": "57b6acbf-ecde-40c8-c494-f6ab6e62f724"
      },
      "source": [
        "#finds four random numbers between 0 and 500\n",
        "print(Rand(0, 500, 4)) \n",
        "rand_no=Rand(0,500,4)"
      ],
      "execution_count": null,
      "outputs": [
        {
          "output_type": "stream",
          "text": [
            "[427, 298, 78, 296]\n"
          ],
          "name": "stdout"
        }
      ]
    },
    {
      "cell_type": "code",
      "metadata": {
        "id": "61ys_CCUVWVr"
      },
      "source": [
        "import numpy as np\n",
        "belongsto=np.array(np.zeros((500,4)),dtype=int)\n",
        "#2,3,4,5,6 - categorical attribute"
      ],
      "execution_count": null,
      "outputs": []
    },
    {
      "cell_type": "code",
      "metadata": {
        "id": "veaha7N_V2qL"
      },
      "source": [
        "df=np.array(df)"
      ],
      "execution_count": null,
      "outputs": []
    },
    {
      "cell_type": "code",
      "metadata": {
        "id": "kRy-7aV9Wph-"
      },
      "source": [
        "for i in range(500):\n",
        "  cnt=0\n",
        "  for j in range(4):\n",
        "    if(df[i][2]!=df[rand_no[j]][2]):\n",
        "      cnt+=1\n",
        "    if(df[i][3]!=df[rand_no[j]][3]):\n",
        "      cnt+=1\n",
        "    if(df[i][4]!=df[rand_no[j]][4]):\n",
        "      cnt+=1\n",
        "    if(df[i][5]!=df[rand_no[j]][5]):\n",
        "      cnt+=1\n",
        "    if(df[i][6]!=df[rand_no[j]][6]):\n",
        "      cnt+=1\n",
        "    belongsto[i][j]=cnt\n",
        "    cnt=0"
      ],
      "execution_count": null,
      "outputs": []
    },
    {
      "cell_type": "code",
      "metadata": {
        "id": "AWg2wbdcF3F7"
      },
      "source": [
        "def belongs(mode1,mode2,mode3,mode4):\n",
        "  belongsto=np.array(np.zeros((500,4)),dtype=int)\n",
        "  for i in range(500):\n",
        "    cnt=0\n",
        "    if(df[i][2]!=mode1[0]):\n",
        "      cnt+=1\n",
        "    if(df[i][3]!=mode1[1]):\n",
        "      cnt+=1\n",
        "    if(df[i][4]!=mode1[2]):\n",
        "      cnt+=1\n",
        "    if(df[i][5]!=mode1[3]):\n",
        "      cnt+=1\n",
        "    if(df[i][6]!=mode1[4]):\n",
        "      cnt+=1\n",
        "    belongsto[i][0]=cnt\n",
        "    cnt=0\n",
        "    if(df[i][2]!=mode2[0]):\n",
        "      cnt+=1\n",
        "    if(df[i][3]!=mode2[1]):\n",
        "      cnt+=1\n",
        "    if(df[i][4]!=mode2[2]):\n",
        "      cnt+=1\n",
        "    if(df[i][5]!=mode2[3]):\n",
        "      cnt+=1\n",
        "    if(df[i][6]!=mode2[4]):\n",
        "      cnt+=1\n",
        "    belongsto[i][1]=cnt\n",
        "    cnt=0\n",
        "    if(df[i][2]!=mode3[0]):\n",
        "      cnt+=1\n",
        "    if(df[i][3]!=mode3[1]):\n",
        "      cnt+=1\n",
        "    if(df[i][4]!=mode3[2]):\n",
        "      cnt+=1\n",
        "    if(df[i][5]!=mode3[3]):\n",
        "      cnt+=1\n",
        "    if(df[i][6]!=mode3[4]):\n",
        "      cnt+=1\n",
        "    belongsto[i][2]=cnt\n",
        "    cnt=0\n",
        "    if(df[i][2]!=mode4[0]):\n",
        "      cnt+=1\n",
        "    if(df[i][3]!=mode4[1]):\n",
        "      cnt+=1\n",
        "    if(df[i][4]!=mode4[2]):\n",
        "      cnt+=1\n",
        "    if(df[i][5]!=mode4[3]):\n",
        "      cnt+=1\n",
        "    if(df[i][6]!=mode4[4]):\n",
        "      cnt+=1\n",
        "    belongsto[i][3]=cnt\n",
        "    cnt=0\n",
        "\n",
        "#now finding the cluster in which the particular point belongs to and this functon will return that list only : \n",
        "  cluster=np.array(np.zeros((500,1)),dtype=int)\n",
        "  min=10000\n",
        "  pos=0\n",
        "  for i in range(500):\n",
        "   min=10000\n",
        "   for j in range(4):\n",
        "      if(min>belongsto[i][j]):\n",
        "        min=belongsto[i][j]\n",
        "        # print(min)\n",
        "        pos=j\n",
        "      \n",
        "   cluster[i]=pos\n",
        "   # print(pos)\n",
        "#now we will be finding for the points that belongs to each cluster and will return that from this function : \n",
        "  #finding points that belong to each cluster till now:\n",
        "  cluster1=[]\n",
        "  cluster2=[]\n",
        "  cluster3=[]\n",
        "  cluster4=[]\n",
        "  for i in range(500):\n",
        "    if(cluster[i]==0):\n",
        "      cluster1.append(i)\n",
        "    if(cluster[i]==1):\n",
        "      cluster2.append(i)\n",
        "    if(cluster[i]==2):\n",
        "      cluster3.append(i)\n",
        "    if(cluster[i]==3):\n",
        "      cluster4.append(i)\n",
        "  return cluster1,cluster2,cluster3,cluster4"
      ],
      "execution_count": null,
      "outputs": []
    },
    {
      "cell_type": "code",
      "metadata": {
        "colab": {
          "base_uri": "https://localhost:8080/"
        },
        "id": "9GV9Cc7lYQ1w",
        "outputId": "2472b5b9-dfb8-4bc1-88ea-f631f7d9e2b7"
      },
      "source": [
        "belongsto[:15]"
      ],
      "execution_count": null,
      "outputs": [
        {
          "output_type": "execute_result",
          "data": {
            "text/plain": [
              "array([[1, 2, 3, 2],\n",
              "       [1, 2, 3, 2],\n",
              "       [2, 2, 3, 2],\n",
              "       [2, 1, 2, 1],\n",
              "       [2, 1, 2, 1],\n",
              "       [2, 1, 2, 1],\n",
              "       [0, 3, 4, 3],\n",
              "       [0, 3, 4, 3],\n",
              "       [0, 3, 4, 3],\n",
              "       [1, 3, 4, 3],\n",
              "       [1, 3, 4, 3],\n",
              "       [1, 3, 4, 3],\n",
              "       [1, 2, 3, 2],\n",
              "       [1, 2, 3, 2],\n",
              "       [2, 3, 4, 1]])"
            ]
          },
          "metadata": {
            "tags": []
          },
          "execution_count": 13
        }
      ]
    },
    {
      "cell_type": "code",
      "metadata": {
        "id": "irOzx-vPYarh"
      },
      "source": [
        "cluster=np.array(np.zeros((500,1)),dtype=int)\n"
      ],
      "execution_count": null,
      "outputs": []
    },
    {
      "cell_type": "code",
      "metadata": {
        "id": "vgplYr_0Y1z6"
      },
      "source": [
        "min=10000\n",
        "pos=0\n",
        "for i in range(500):\n",
        "  min=10000\n",
        "  for j in range(4):\n",
        "    if(min>belongsto[i][j]):\n",
        "      min=belongsto[i][j]\n",
        "      # print(min)\n",
        "      pos=j\n",
        "      \n",
        "  cluster[i]=pos\n",
        "  # print(pos)"
      ],
      "execution_count": null,
      "outputs": []
    },
    {
      "cell_type": "code",
      "metadata": {
        "colab": {
          "base_uri": "https://localhost:8080/"
        },
        "id": "FmJ431keZvLV",
        "outputId": "6f7f3342-f03f-43fd-8903-a1c1ec3f487e"
      },
      "source": [
        "cluster[:15]"
      ],
      "execution_count": null,
      "outputs": [
        {
          "output_type": "execute_result",
          "data": {
            "text/plain": [
              "array([[0],\n",
              "       [0],\n",
              "       [0],\n",
              "       [1],\n",
              "       [1],\n",
              "       [1],\n",
              "       [0],\n",
              "       [0],\n",
              "       [0],\n",
              "       [0],\n",
              "       [0],\n",
              "       [0],\n",
              "       [0],\n",
              "       [0],\n",
              "       [3]])"
            ]
          },
          "metadata": {
            "tags": []
          },
          "execution_count": 16
        }
      ]
    },
    {
      "cell_type": "code",
      "metadata": {
        "id": "mR2pvAU1bE1F"
      },
      "source": [
        "#finding points that belong to each cluster till now:\n",
        "cluster1=[]\n",
        "cluster2=[]\n",
        "cluster3=[]\n",
        "cluster4=[]\n",
        "for i in range(500):\n",
        "  if(cluster[i]==0):\n",
        "    cluster1.append(i)\n",
        "  if(cluster[i]==1):\n",
        "    cluster2.append(i)\n",
        "  if(cluster[i]==2):\n",
        "    cluster3.append(i)\n",
        "  if(cluster[i]==3):\n",
        "    cluster4.append(i)"
      ],
      "execution_count": null,
      "outputs": []
    },
    {
      "cell_type": "code",
      "metadata": {
        "colab": {
          "base_uri": "https://localhost:8080/"
        },
        "id": "tPaAMVEodRzG",
        "outputId": "64e66815-c1ba-481e-d601-faab3133b9e2"
      },
      "source": [
        "cluster2"
      ],
      "execution_count": null,
      "outputs": [
        {
          "output_type": "execute_result",
          "data": {
            "text/plain": [
              "[3,\n",
              " 4,\n",
              " 5,\n",
              " 50,\n",
              " 51,\n",
              " 99,\n",
              " 100,\n",
              " 101,\n",
              " 193,\n",
              " 194,\n",
              " 195,\n",
              " 196,\n",
              " 197,\n",
              " 198,\n",
              " 199,\n",
              " 200,\n",
              " 201,\n",
              " 207,\n",
              " 208,\n",
              " 209,\n",
              " 210,\n",
              " 211,\n",
              " 212,\n",
              " 213,\n",
              " 214,\n",
              " 215,\n",
              " 216,\n",
              " 223,\n",
              " 224,\n",
              " 225,\n",
              " 226,\n",
              " 227,\n",
              " 228,\n",
              " 229,\n",
              " 230,\n",
              " 231,\n",
              " 238,\n",
              " 239,\n",
              " 240,\n",
              " 241,\n",
              " 242,\n",
              " 243,\n",
              " 244,\n",
              " 245,\n",
              " 246,\n",
              " 247,\n",
              " 248,\n",
              " 249,\n",
              " 256,\n",
              " 257,\n",
              " 258,\n",
              " 259,\n",
              " 260,\n",
              " 261,\n",
              " 262,\n",
              " 263,\n",
              " 264,\n",
              " 265,\n",
              " 266,\n",
              " 267,\n",
              " 273,\n",
              " 274,\n",
              " 275,\n",
              " 276,\n",
              " 277,\n",
              " 278,\n",
              " 279,\n",
              " 280,\n",
              " 281,\n",
              " 282,\n",
              " 283,\n",
              " 290,\n",
              " 291,\n",
              " 292,\n",
              " 293,\n",
              " 294,\n",
              " 295,\n",
              " 296,\n",
              " 297,\n",
              " 298,\n",
              " 299,\n",
              " 300,\n",
              " 301,\n",
              " 308,\n",
              " 309,\n",
              " 310,\n",
              " 311,\n",
              " 312,\n",
              " 313,\n",
              " 314,\n",
              " 315,\n",
              " 316,\n",
              " 317,\n",
              " 318,\n",
              " 325,\n",
              " 326,\n",
              " 327,\n",
              " 328,\n",
              " 329,\n",
              " 330,\n",
              " 331,\n",
              " 332,\n",
              " 333,\n",
              " 334,\n",
              " 335,\n",
              " 342,\n",
              " 343,\n",
              " 393,\n",
              " 394,\n",
              " 395,\n",
              " 396,\n",
              " 397,\n",
              " 398,\n",
              " 427,\n",
              " 428,\n",
              " 429,\n",
              " 430,\n",
              " 431,\n",
              " 443,\n",
              " 444,\n",
              " 445,\n",
              " 446,\n",
              " 447,\n",
              " 448,\n",
              " 474,\n",
              " 475,\n",
              " 476,\n",
              " 477,\n",
              " 478,\n",
              " 479,\n",
              " 491,\n",
              " 492,\n",
              " 493,\n",
              " 494,\n",
              " 495,\n",
              " 496]"
            ]
          },
          "metadata": {
            "tags": []
          },
          "execution_count": 18
        }
      ]
    },
    {
      "cell_type": "code",
      "metadata": {
        "id": "OsvBS9xwdSXO"
      },
      "source": [
        "#finding modes or most common values :\n",
        "def mode(cluster1,cluster2,cluster3,cluster4) :\n",
        "  clus12={' completed':0, ' complete':0, ' incomplete':0}\n",
        "  clus13={'3':0, '1':0, '2':0, ' more':0}\n",
        "  clus14={' convenient':0, ' critical':0, ' less_conv':0}\n",
        "  clus15={' convenient':0, ' inconv':0}\n",
        "  clus16={' nonprob':0,' problematic':0,' slightly_prob':0}\n",
        "  for i in cluster1:\n",
        "    x=df[i][2:7]\n",
        "  # print(x)\n",
        "    clus12[x[0]]+=1\n",
        "    clus13[x[1]]+=1\n",
        "    clus14[x[2]]+=1\n",
        "    clus15[x[3]]+=1\n",
        "    clus16[x[4]]+=1\n",
        "  keymax1 = max(clus12, key=clus12.get)\n",
        "  keymax2 = max(clus13, key=clus13.get)\n",
        "  keymax3 = max(clus14, key=clus14.get)\n",
        "  keymax4 = max(clus15, key=clus15.get)\n",
        "  keymax5 = max(clus16, key=clus16.get)\n",
        "  #mode for cluster1\n",
        "\n",
        "  mode1=np.array([keymax1,keymax2,keymax3,keymax4,keymax5])\n",
        "  clus12={' completed':0, ' complete':0, ' incomplete':0}\n",
        "  clus13={'3':0, '1':0, '2':0, ' more':0}\n",
        "  clus14={' convenient':0, ' critical':0, ' less_conv':0}\n",
        "  clus15={' convenient':0, ' inconv':0}\n",
        "  clus16={' nonprob':0,' problematic':0,' slightly_prob':0}\n",
        "  #mode for cluster2\n",
        "\n",
        "  for i in cluster2:\n",
        "    x=df[i][2:7]\n",
        "  # print(x)\n",
        "    clus12[x[0]]+=1\n",
        "    clus13[x[1]]+=1\n",
        "    clus14[x[2]]+=1\n",
        "    clus15[x[3]]+=1\n",
        "    clus16[x[4]]+=1\n",
        "  keymax1 = max(clus12, key=clus12.get)\n",
        "  keymax2 = max(clus13, key=clus13.get)\n",
        "  keymax3 = max(clus14, key=clus14.get)\n",
        "  keymax4 = max(clus15, key=clus15.get)\n",
        "  keymax5 = max(clus16, key=clus16.get)\n",
        "  mode2=np.array([keymax1,keymax2,keymax3,keymax4,keymax5])\n",
        "  clus12={' completed':0, ' complete':0, ' incomplete':0}\n",
        "  clus13={'3':0, '1':0, '2':0, ' more':0}\n",
        "  clus14={' convenient':0, ' critical':0, ' less_conv':0}\n",
        "  clus15={' convenient':0, ' inconv':0}\n",
        "  clus16={' nonprob':0,' problematic':0,' slightly_prob':0}\n",
        "  #mode for cluster3\n",
        "\n",
        "  for i in cluster3:\n",
        "    x=df[i][2:7]\n",
        "  # print(x)\n",
        "    clus12[x[0]]+=1\n",
        "    clus13[x[1]]+=1\n",
        "    clus14[x[2]]+=1\n",
        "    clus15[x[3]]+=1\n",
        "    clus16[x[4]]+=1\n",
        "  keymax1 = max(clus12, key=clus12.get)\n",
        "  keymax2 = max(clus13, key=clus13.get)\n",
        "  keymax3 = max(clus14, key=clus14.get)\n",
        "  keymax4 = max(clus15, key=clus15.get)\n",
        "  keymax5 = max(clus16, key=clus16.get)\n",
        "  mode3=np.array([keymax1,keymax2,keymax3,keymax4,keymax5])\n",
        "  clus12={' completed':0, ' complete':0, ' incomplete':0}\n",
        "  clus13={'3':0, '1':0, '2':0, ' more':0}\n",
        "  clus14={' convenient':0, ' critical':0, ' less_conv':0}\n",
        "  clus15={' convenient':0, ' inconv':0}\n",
        "  clus16={' nonprob':0,' problematic':0,' slightly_prob':0}\n",
        "  for i in cluster4:\n",
        "    x=df[i][2:7]\n",
        "  # print(x)\n",
        "    clus12[x[0]]+=1\n",
        "    clus13[x[1]]+=1\n",
        "    clus14[x[2]]+=1\n",
        "    clus15[x[3]]+=1\n",
        "    clus16[x[4]]+=1\n",
        "  keymax1 = max(clus12, key=clus12.get)\n",
        "  keymax2 = max(clus13, key=clus13.get)\n",
        "  keymax3 = max(clus14, key=clus14.get)\n",
        "  keymax4 = max(clus15, key=clus15.get)\n",
        "  keymax5 = max(clus16, key=clus16.get)\n",
        "  mode4=np.array([keymax1,keymax2,keymax3,keymax4,keymax5])\n",
        "  return mode1,mode2,mode3,mode4\n",
        "  "
      ],
      "execution_count": null,
      "outputs": []
    },
    {
      "cell_type": "code",
      "metadata": {
        "id": "3Pps2wmYAPWq"
      },
      "source": [
        "mode1,mode2,mode3,mode4=mode(cluster1,cluster2,cluster3,cluster4)"
      ],
      "execution_count": null,
      "outputs": []
    },
    {
      "cell_type": "code",
      "metadata": {
        "id": "QyNSF6crBd1t"
      },
      "source": [
        "#main algorithm for kmode : \n",
        "cluster1_new=[]\n",
        "cluster2_new=[]\n",
        "cluster3_new=[]\n",
        "cluster4_new=[]\n",
        "while(cluster1!=cluster1_new and cluster2!=cluster2_new and cluster3!=cluster3_new and cluster4!=cluster4_new):\n",
        "  cluster1_new,cluster2_new,cluster3_new,cluster4_new = belongs(mode1,mode2,mode3,mode4)"
      ],
      "execution_count": null,
      "outputs": []
    },
    {
      "cell_type": "code",
      "metadata": {
        "colab": {
          "base_uri": "https://localhost:8080/"
        },
        "id": "cL5SQgnTDJgG",
        "outputId": "089d9656-862e-481a-8277-b3ed8d1d566c"
      },
      "source": [
        "#displaying first 10 values from each cluster : \n",
        "print('cluster1 : ', cluster1_new[:10])\n",
        "print('cluster2 : ', cluster2_new[:10])\n",
        "print('cluster3 : ', cluster3_new[:10])\n",
        "print('cluster4 : ', cluster4_new[:10])"
      ],
      "execution_count": null,
      "outputs": [
        {
          "output_type": "stream",
          "text": [
            "cluster1 :  [0, 1, 2, 6, 7, 8, 9, 10, 11, 12]\n",
            "cluster2 :  [3, 4, 5, 50, 51, 99, 100, 101, 193, 194]\n",
            "cluster3 :  [147, 148, 149, 150, 151, 152, 178, 179, 180, 181]\n",
            "cluster4 :  [14, 15, 16, 17, 18, 19, 20, 25, 29, 30]\n"
          ],
          "name": "stdout"
        }
      ]
    }
  ]
}