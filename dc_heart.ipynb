{
  "nbformat": 4,
  "nbformat_minor": 0,
  "metadata": {
    "colab": {
      "name": "dc_heart.ipynb",
      "provenance": [],
      "collapsed_sections": []
    },
    "kernelspec": {
      "name": "python3",
      "display_name": "Python 3"
    },
    "accelerator": "GPU"
  },
  "cells": [
    {
      "cell_type": "code",
      "metadata": {
        "id": "iTlGxT3GZQVr",
        "colab": {
          "base_uri": "https://localhost:8080/"
        },
        "outputId": "dd1b0c13-f740-4edd-e5d9-2c53e74c21c3"
      },
      "source": [
        "from google.colab import drive\n",
        "drive.mount('/content/drive')"
      ],
      "execution_count": null,
      "outputs": [
        {
          "output_type": "stream",
          "text": [
            "Drive already mounted at /content/drive; to attempt to forcibly remount, call drive.mount(\"/content/drive\", force_remount=True).\n"
          ],
          "name": "stdout"
        }
      ]
    },
    {
      "cell_type": "code",
      "metadata": {
        "id": "s3QHXDG9ZZyi",
        "colab": {
          "base_uri": "https://localhost:8080/",
          "height": 436
        },
        "outputId": "63ab539a-fc0e-4cf7-9a9e-ff1f2b340943"
      },
      "source": [
        "import pandas as pd\n",
        "df = pd.read_csv('/content/drive/My Drive/dataset/hurt.csv')\n",
        "df"
      ],
      "execution_count": null,
      "outputs": [
        {
          "output_type": "execute_result",
          "data": {
            "text/html": [
              "<div>\n",
              "<style scoped>\n",
              "    .dataframe tbody tr th:only-of-type {\n",
              "        vertical-align: middle;\n",
              "    }\n",
              "\n",
              "    .dataframe tbody tr th {\n",
              "        vertical-align: top;\n",
              "    }\n",
              "\n",
              "    .dataframe thead th {\n",
              "        text-align: right;\n",
              "    }\n",
              "</style>\n",
              "<table border=\"1\" class=\"dataframe\">\n",
              "  <thead>\n",
              "    <tr style=\"text-align: right;\">\n",
              "      <th></th>\n",
              "      <th>Unnamed: 0</th>\n",
              "      <th>Unnamed: 1</th>\n",
              "      <th>Unnamed: 2</th>\n",
              "      <th>Unnamed: 3</th>\n",
              "      <th>Unnamed: 4</th>\n",
              "      <th>Unnamed: 5</th>\n",
              "      <th>Unnamed: 6</th>\n",
              "      <th>Unnamed: 7</th>\n",
              "      <th>Unnamed: 8</th>\n",
              "      <th>Unnamed: 9</th>\n",
              "      <th>Unnamed: 10</th>\n",
              "      <th>Unnamed: 11</th>\n",
              "      <th>Unnamed: 12</th>\n",
              "      <th>Unnamed: 13</th>\n",
              "    </tr>\n",
              "  </thead>\n",
              "  <tbody>\n",
              "    <tr>\n",
              "      <th>0</th>\n",
              "      <td>63.0</td>\n",
              "      <td>1.0</td>\n",
              "      <td>1.0</td>\n",
              "      <td>145.0</td>\n",
              "      <td>233.0</td>\n",
              "      <td>1.0</td>\n",
              "      <td>2.0</td>\n",
              "      <td>150.0</td>\n",
              "      <td>0.0</td>\n",
              "      <td>2.3</td>\n",
              "      <td>3.0</td>\n",
              "      <td>0.0</td>\n",
              "      <td>6.0</td>\n",
              "      <td>0</td>\n",
              "    </tr>\n",
              "    <tr>\n",
              "      <th>1</th>\n",
              "      <td>67.0</td>\n",
              "      <td>1.0</td>\n",
              "      <td>4.0</td>\n",
              "      <td>160.0</td>\n",
              "      <td>286.0</td>\n",
              "      <td>0.0</td>\n",
              "      <td>2.0</td>\n",
              "      <td>108.0</td>\n",
              "      <td>1.0</td>\n",
              "      <td>1.5</td>\n",
              "      <td>2.0</td>\n",
              "      <td>3.0</td>\n",
              "      <td>3.0</td>\n",
              "      <td>2</td>\n",
              "    </tr>\n",
              "    <tr>\n",
              "      <th>2</th>\n",
              "      <td>67.0</td>\n",
              "      <td>1.0</td>\n",
              "      <td>4.0</td>\n",
              "      <td>120.0</td>\n",
              "      <td>229.0</td>\n",
              "      <td>0.0</td>\n",
              "      <td>2.0</td>\n",
              "      <td>129.0</td>\n",
              "      <td>1.0</td>\n",
              "      <td>2.6</td>\n",
              "      <td>2.0</td>\n",
              "      <td>2.0</td>\n",
              "      <td>7.0</td>\n",
              "      <td>1</td>\n",
              "    </tr>\n",
              "    <tr>\n",
              "      <th>3</th>\n",
              "      <td>37.0</td>\n",
              "      <td>1.0</td>\n",
              "      <td>3.0</td>\n",
              "      <td>130.0</td>\n",
              "      <td>250.0</td>\n",
              "      <td>0.0</td>\n",
              "      <td>0.0</td>\n",
              "      <td>187.0</td>\n",
              "      <td>0.0</td>\n",
              "      <td>3.5</td>\n",
              "      <td>3.0</td>\n",
              "      <td>0.0</td>\n",
              "      <td>3.0</td>\n",
              "      <td>0</td>\n",
              "    </tr>\n",
              "    <tr>\n",
              "      <th>4</th>\n",
              "      <td>41.0</td>\n",
              "      <td>0.0</td>\n",
              "      <td>2.0</td>\n",
              "      <td>130.0</td>\n",
              "      <td>204.0</td>\n",
              "      <td>0.0</td>\n",
              "      <td>2.0</td>\n",
              "      <td>172.0</td>\n",
              "      <td>0.0</td>\n",
              "      <td>1.4</td>\n",
              "      <td>1.0</td>\n",
              "      <td>0.0</td>\n",
              "      <td>3.0</td>\n",
              "      <td>0</td>\n",
              "    </tr>\n",
              "    <tr>\n",
              "      <th>...</th>\n",
              "      <td>...</td>\n",
              "      <td>...</td>\n",
              "      <td>...</td>\n",
              "      <td>...</td>\n",
              "      <td>...</td>\n",
              "      <td>...</td>\n",
              "      <td>...</td>\n",
              "      <td>...</td>\n",
              "      <td>...</td>\n",
              "      <td>...</td>\n",
              "      <td>...</td>\n",
              "      <td>...</td>\n",
              "      <td>...</td>\n",
              "      <td>...</td>\n",
              "    </tr>\n",
              "    <tr>\n",
              "      <th>292</th>\n",
              "      <td>57.0</td>\n",
              "      <td>0.0</td>\n",
              "      <td>4.0</td>\n",
              "      <td>140.0</td>\n",
              "      <td>241.0</td>\n",
              "      <td>0.0</td>\n",
              "      <td>0.0</td>\n",
              "      <td>123.0</td>\n",
              "      <td>1.0</td>\n",
              "      <td>0.2</td>\n",
              "      <td>2.0</td>\n",
              "      <td>0.0</td>\n",
              "      <td>7.0</td>\n",
              "      <td>1</td>\n",
              "    </tr>\n",
              "    <tr>\n",
              "      <th>293</th>\n",
              "      <td>45.0</td>\n",
              "      <td>1.0</td>\n",
              "      <td>1.0</td>\n",
              "      <td>110.0</td>\n",
              "      <td>264.0</td>\n",
              "      <td>0.0</td>\n",
              "      <td>0.0</td>\n",
              "      <td>132.0</td>\n",
              "      <td>0.0</td>\n",
              "      <td>1.2</td>\n",
              "      <td>2.0</td>\n",
              "      <td>0.0</td>\n",
              "      <td>7.0</td>\n",
              "      <td>1</td>\n",
              "    </tr>\n",
              "    <tr>\n",
              "      <th>294</th>\n",
              "      <td>68.0</td>\n",
              "      <td>1.0</td>\n",
              "      <td>4.0</td>\n",
              "      <td>144.0</td>\n",
              "      <td>193.0</td>\n",
              "      <td>1.0</td>\n",
              "      <td>0.0</td>\n",
              "      <td>141.0</td>\n",
              "      <td>0.0</td>\n",
              "      <td>3.4</td>\n",
              "      <td>2.0</td>\n",
              "      <td>2.0</td>\n",
              "      <td>7.0</td>\n",
              "      <td>2</td>\n",
              "    </tr>\n",
              "    <tr>\n",
              "      <th>295</th>\n",
              "      <td>57.0</td>\n",
              "      <td>1.0</td>\n",
              "      <td>4.0</td>\n",
              "      <td>130.0</td>\n",
              "      <td>131.0</td>\n",
              "      <td>0.0</td>\n",
              "      <td>0.0</td>\n",
              "      <td>115.0</td>\n",
              "      <td>1.0</td>\n",
              "      <td>1.2</td>\n",
              "      <td>2.0</td>\n",
              "      <td>1.0</td>\n",
              "      <td>7.0</td>\n",
              "      <td>3</td>\n",
              "    </tr>\n",
              "    <tr>\n",
              "      <th>296</th>\n",
              "      <td>57.0</td>\n",
              "      <td>0.0</td>\n",
              "      <td>2.0</td>\n",
              "      <td>130.0</td>\n",
              "      <td>236.0</td>\n",
              "      <td>0.0</td>\n",
              "      <td>2.0</td>\n",
              "      <td>174.0</td>\n",
              "      <td>0.0</td>\n",
              "      <td>0.0</td>\n",
              "      <td>2.0</td>\n",
              "      <td>1.0</td>\n",
              "      <td>3.0</td>\n",
              "      <td>1</td>\n",
              "    </tr>\n",
              "  </tbody>\n",
              "</table>\n",
              "<p>297 rows × 14 columns</p>\n",
              "</div>"
            ],
            "text/plain": [
              "     Unnamed: 0  Unnamed: 1  Unnamed: 2  ...  Unnamed: 11  Unnamed: 12  Unnamed: 13\n",
              "0          63.0         1.0         1.0  ...          0.0          6.0            0\n",
              "1          67.0         1.0         4.0  ...          3.0          3.0            2\n",
              "2          67.0         1.0         4.0  ...          2.0          7.0            1\n",
              "3          37.0         1.0         3.0  ...          0.0          3.0            0\n",
              "4          41.0         0.0         2.0  ...          0.0          3.0            0\n",
              "..          ...         ...         ...  ...          ...          ...          ...\n",
              "292        57.0         0.0         4.0  ...          0.0          7.0            1\n",
              "293        45.0         1.0         1.0  ...          0.0          7.0            1\n",
              "294        68.0         1.0         4.0  ...          2.0          7.0            2\n",
              "295        57.0         1.0         4.0  ...          1.0          7.0            3\n",
              "296        57.0         0.0         2.0  ...          1.0          3.0            1\n",
              "\n",
              "[297 rows x 14 columns]"
            ]
          },
          "metadata": {
            "tags": []
          },
          "execution_count": 41
        }
      ]
    },
    {
      "cell_type": "code",
      "metadata": {
        "id": "_bBojucGZ-Yt"
      },
      "source": [
        "import numpy as np\n",
        "import math\n",
        "import sys\n",
        "df=np.array(df)"
      ],
      "execution_count": null,
      "outputs": []
    },
    {
      "cell_type": "code",
      "metadata": {
        "id": "IOxau1rhZgGX"
      },
      "source": [
        "def distance(a,b):\n",
        "  sum=0\n",
        "  for i in range(13):\n",
        "    sum+=((a[i]-b[i])**2)\n",
        "  return math.sqrt(sum)\n",
        "    "
      ],
      "execution_count": null,
      "outputs": []
    },
    {
      "cell_type": "code",
      "metadata": {
        "id": "A6pkEWNJaMF9"
      },
      "source": [
        "dist_mat=np.array(np.zeros((297,297), dtype=float))\n",
        "for i in range(len(dist_mat)):\n",
        "  for j in range(len(dist_mat)):\n",
        "    dist_mat[i][j]=distance(df[i],df[j])"
      ],
      "execution_count": null,
      "outputs": []
    },
    {
      "cell_type": "code",
      "metadata": {
        "id": "TUic7zLNaQwD",
        "colab": {
          "base_uri": "https://localhost:8080/"
        },
        "outputId": "7b17594b-cb7c-47aa-83e2-a06aeb4c8cab"
      },
      "source": [
        "dist_mat"
      ],
      "execution_count": null,
      "outputs": [
        {
          "output_type": "execute_result",
          "data": {
            "text/plain": [
              "array([[  0.        ,  87.4814266 ,  60.95900262, ...,  64.70054096,\n",
              "        120.79420516,  60.57227088],\n",
              "       [ 87.4814266 ,   0.        ,  72.87660804, ..., 100.14769094,\n",
              "        158.42802782,  88.69047299],\n",
              "       [ 60.95900262,  72.87660804,   0.        , ...,  44.99955555,\n",
              "        100.02819602,  47.96873982],\n",
              "       ...,\n",
              "       [ 64.70054096, 100.14769094,  44.99955555, ...,   0.        ,\n",
              "         69.60488489,  57.38954609],\n",
              "       [120.79420516, 158.42802782, 100.02819602, ...,  69.60488489,\n",
              "          0.        , 120.55471787],\n",
              "       [ 60.57227088,  88.69047299,  47.96873982, ...,  57.38954609,\n",
              "        120.55471787,   0.        ]])"
            ]
          },
          "metadata": {
            "tags": []
          },
          "execution_count": 94
        }
      ]
    },
    {
      "cell_type": "code",
      "metadata": {
        "id": "twnGmd2tclIC"
      },
      "source": [
        "def hierarchical_clustering(dist,linkage,no_of_clusters):  \n",
        "    #first step is to calculate the initial distance matrix\n",
        "    #it consists distances from all the point to all the point\n",
        "    color = ['r','g','b','y','c','m','k','w']\n",
        "    # initial_distances = pairwise_distances(data,metric='euclidean')\n",
        "    #making all the diagonal elements infinity \n",
        "    np.fill_diagonal(dist,sys.maxsize)\n",
        "    clusters = find_clusters(dist,linkage)\n",
        "    \n",
        "    #plotting the clusters\n",
        "    iteration_number = dist.shape[0] - no_of_clusters\n",
        "    clusters_to_plot = clusters[iteration_number]\n",
        "\n",
        "    print(clusters_to_plot)\n",
        "    # for i in range(0,len(indices_to_plot)):\n",
        "    #     for j in np.nditer(indices_to_plot[i]):\n",
        "    #            ax.scatter(df.iloc[j,0],df.[j,1], c= color[p])\n",
        "    #     p = p + 1\n",
        "        \n",
        "    # plt.show()"
      ],
      "execution_count": null,
      "outputs": []
    },
    {
      "cell_type": "code",
      "metadata": {
        "id": "HTom8xhTeb4m"
      },
      "source": [
        "def find_clusters(input,linkage):\n",
        "    clusters = {}\n",
        "    row_index = -1\n",
        "    col_index = -1\n",
        "    array = []\n",
        "    \n",
        "\n",
        "    for n in range(input.shape[0]):\n",
        "        array.append(n)\n",
        "        \n",
        "    clusters[0] = array.copy()\n",
        "\n",
        "    #finding minimum value from the distance matrix\n",
        "    #note that this loop will always return minimum value from bottom triangle of matrix\n",
        "    for k in range(1, input.shape[0]):\n",
        "        min_val = sys.maxsize\n",
        "  \n",
        "        for i in range(0, input.shape[0]):\n",
        "            for j in range(0, input.shape[1]):\n",
        "                if(input[i][j]<=min_val):\n",
        "                    min_val = input[i][j]\n",
        "                    row_index = i\n",
        "                    col_index = j\n",
        "        \n",
        "        #once we find the minimum value, we need to update the distance matrix\n",
        "        #updating the matrix by calculating the new distances from the cluster to all points\n",
        "        \n",
        "        #for Single Linkage\n",
        "        if(linkage == \"single\" or linkage ==\"Single\"):\n",
        "            for i in range(0,input.shape[0]):\n",
        "                if(i != col_index):\n",
        "                    #we calculate the distance of every data point from newly formed cluster and update the matrix.\n",
        "                    temp = min(input[col_index][i],input[row_index][i])\n",
        "                    #we update the matrix symmetrically as our distance matrix should always be symmetric\n",
        "                    input[col_index][i] = temp\n",
        "                    input[i][col_index] = temp\n",
        "        #for Complete Linkage\n",
        "        elif(linkage==\"Complete\" or linkage == \"complete\"):\n",
        "             for i in range(0,input.shape[0]):\n",
        "                if(i != col_index and i!=row_index):\n",
        "                    temp = min(input[col_index][i],input[row_index][i])\n",
        "                    input[col_index][i] = temp\n",
        "                    input[i][col_index] = temp\n",
        "        #for Average Linkage\n",
        "        elif(linkage==\"Average\" or linkage == \"average\"):\n",
        "             for i in range(0,input.shape[0]):\n",
        "                if(i != col_index and i!=row_index):\n",
        "                    temp = (input[col_index][i]+input[row_index][i])/2\n",
        "                    input[col_index][i] = temp\n",
        "                    input[i][col_index] = temp\n",
        "        \n",
        "        elif(linkage==\"Centroid\" or linkage ==\"centroid\"):\n",
        "            for i in range(0,input.shape[0]):\n",
        "                if(i!=col_index and i!=row_index):\n",
        "                    dist_centroid = cal_dist_from_centroid(i,row_index,col_index)\n",
        "                    input[col_index][i] = dist_centroid\n",
        "                    input[i][col_index] = dist_centroid\n",
        "                   \n",
        "        #set the rows and columns for the cluster with higher index i.e. the row index to infinity\n",
        "        #Set input[row_index][for_all_i] = infinity\n",
        "        #set input[for_all_i][row_index] = infinity\n",
        "        for i in range (0,input.shape[0]):\n",
        "            input[row_index][i] = sys.maxsize\n",
        "            input[i][row_index] = sys.maxsize\n",
        "            \n",
        "        #Manipulating the dictionary to keep track of cluster formation in each step\n",
        "        #if k=0,then all datapoints are clusters\n",
        "       \n",
        "        minimum = min(row_index,col_index)\n",
        "        maximum = max(row_index,col_index)\n",
        "        for n in range(len(array)):\n",
        "            if(array[n]==maximum):\n",
        "                array[n] = minimum\n",
        "        clusters[k] = array.copy()\n",
        "           \n",
        "    return clusters"
      ],
      "execution_count": null,
      "outputs": []
    },
    {
      "cell_type": "code",
      "metadata": {
        "id": "yrnz9VAXef7l"
      },
      "source": [
        "dist=dist_mat"
      ],
      "execution_count": null,
      "outputs": []
    },
    {
      "cell_type": "code",
      "metadata": {
        "id": "YeYB3Or6foNr",
        "colab": {
          "base_uri": "https://localhost:8080/"
        },
        "outputId": "15d2a80e-9b19-4064-eee4-50f59e28f12c"
      },
      "source": [
        "hierarchical_clustering(dist_mat,\"single\",5)"
      ],
      "execution_count": null,
      "outputs": [
        {
          "output_type": "stream",
          "text": [
            "[0, 0, 0, 3, 4, 0, 0, 7, 0, 0, 0, 0, 0, 0, 0, 0, 0, 0, 0, 0, 0, 0, 0, 0, 0, 0, 0, 0, 0, 0, 0, 0, 0, 0, 0, 0, 0, 0, 0, 0, 0, 0, 0, 0, 0, 0, 0, 0, 0, 0, 0, 0, 0, 0, 0, 0, 0, 0, 0, 0, 0, 0, 0, 0, 0, 0, 0, 0, 0, 0, 0, 0, 0, 0, 0, 0, 0, 0, 0, 0, 0, 0, 0, 0, 0, 0, 0, 0, 0, 0, 0, 0, 0, 0, 0, 0, 0, 0, 0, 0, 0, 0, 0, 0, 0, 0, 0, 0, 0, 0, 0, 0, 0, 0, 0, 0, 0, 0, 0, 0, 0, 0, 0, 0, 0, 0, 0, 0, 0, 0, 0, 0, 0, 0, 0, 0, 0, 0, 0, 0, 0, 0, 0, 0, 0, 0, 0, 0, 0, 0, 0, 151, 0, 0, 0, 0, 0, 0, 0, 0, 0, 0, 0, 0, 0, 0, 0, 0, 0, 0, 0, 0, 0, 0, 0, 0, 0, 0, 0, 0, 0, 0, 0, 0, 0, 0, 0, 0, 0, 0, 0, 0, 0, 0, 0, 0, 0, 0, 0, 0, 0, 0, 0, 0, 0, 0, 0, 0, 0, 0, 0, 0, 0, 0, 0, 0, 0, 0, 0, 0, 0, 0, 0, 0, 0, 0, 0, 0, 0, 0, 0, 0, 0, 0, 0, 0, 0, 0, 0, 0, 0, 0, 0, 0, 0, 0, 0, 0, 0, 0, 0, 0, 0, 0, 0, 0, 0, 0, 0, 0, 0, 0, 0, 0, 0, 0, 0, 0, 0, 0, 0, 0, 0, 0, 0, 0, 0, 0, 0, 0, 0, 0, 0, 0, 0, 0, 0, 0, 0, 0, 0, 0, 0, 0, 0, 0, 0]\n"
          ],
          "name": "stdout"
        }
      ]
    }
  ]
}