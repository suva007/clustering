{
  "nbformat": 4,
  "nbformat_minor": 0,
  "metadata": {
    "colab": {
      "name": "DC.ipynb",
      "provenance": [],
      "collapsed_sections": []
    },
    "kernelspec": {
      "name": "python3",
      "display_name": "Python 3"
    },
    "accelerator": "GPU"
  },
  "cells": [
    {
      "cell_type": "code",
      "metadata": {
        "id": "nfWg3BfZMWzp",
        "colab": {
          "base_uri": "https://localhost:8080/"
        },
        "outputId": "c77913f1-4a6c-47d5-993a-562151f5f9c7"
      },
      "source": [
        "from google.colab import drive\n",
        "drive.mount('/content/drive')"
      ],
      "execution_count": null,
      "outputs": [
        {
          "output_type": "stream",
          "text": [
            "Drive already mounted at /content/drive; to attempt to forcibly remount, call drive.mount(\"/content/drive\", force_remount=True).\n"
          ],
          "name": "stdout"
        }
      ]
    },
    {
      "cell_type": "code",
      "metadata": {
        "id": "pY2YGAE2MhRz",
        "colab": {
          "base_uri": "https://localhost:8080/",
          "height": 456
        },
        "outputId": "34247f7c-f215-4900-a523-c15bb783e620"
      },
      "source": [
        "import pandas as pd\n",
        "df = pd.read_csv('/content/drive/My Drive/dataset/credit-2.csv')\n",
        "df"
      ],
      "execution_count": null,
      "outputs": [
        {
          "output_type": "execute_result",
          "data": {
            "text/html": [
              "<div>\n",
              "<style scoped>\n",
              "    .dataframe tbody tr th:only-of-type {\n",
              "        vertical-align: middle;\n",
              "    }\n",
              "\n",
              "    .dataframe tbody tr th {\n",
              "        vertical-align: top;\n",
              "    }\n",
              "\n",
              "    .dataframe thead th {\n",
              "        text-align: right;\n",
              "    }\n",
              "</style>\n",
              "<table border=\"1\" class=\"dataframe\">\n",
              "  <thead>\n",
              "    <tr style=\"text-align: right;\">\n",
              "      <th></th>\n",
              "      <th>Unnamed: 0</th>\n",
              "      <th>Unnamed: 1</th>\n",
              "      <th>Unnamed: 2</th>\n",
              "      <th>Unnamed: 3</th>\n",
              "      <th>Unnamed: 4</th>\n",
              "      <th>Unnamed: 5</th>\n",
              "      <th>Unnamed: 6</th>\n",
              "      <th>Unnamed: 7</th>\n",
              "      <th>Unnamed: 8</th>\n",
              "      <th>Unnamed: 9</th>\n",
              "      <th>Unnamed: 10</th>\n",
              "      <th>Unnamed: 11</th>\n",
              "      <th>Unnamed: 12</th>\n",
              "      <th>Unnamed: 13</th>\n",
              "      <th>Unnamed: 14</th>\n",
              "      <th>Unnamed: 15</th>\n",
              "    </tr>\n",
              "  </thead>\n",
              "  <tbody>\n",
              "    <tr>\n",
              "      <th>0</th>\n",
              "      <td>b</td>\n",
              "      <td>3083.0</td>\n",
              "      <td>0.0</td>\n",
              "      <td>u</td>\n",
              "      <td>g</td>\n",
              "      <td>w</td>\n",
              "      <td>v</td>\n",
              "      <td>125.0</td>\n",
              "      <td>t</td>\n",
              "      <td>t</td>\n",
              "      <td>1</td>\n",
              "      <td>f</td>\n",
              "      <td>g</td>\n",
              "      <td>202</td>\n",
              "      <td>0</td>\n",
              "      <td>positive</td>\n",
              "    </tr>\n",
              "    <tr>\n",
              "      <th>1</th>\n",
              "      <td>a</td>\n",
              "      <td>5867.0</td>\n",
              "      <td>446.0</td>\n",
              "      <td>u</td>\n",
              "      <td>g</td>\n",
              "      <td>q</td>\n",
              "      <td>h</td>\n",
              "      <td>304.0</td>\n",
              "      <td>t</td>\n",
              "      <td>t</td>\n",
              "      <td>6</td>\n",
              "      <td>f</td>\n",
              "      <td>g</td>\n",
              "      <td>43</td>\n",
              "      <td>560</td>\n",
              "      <td>positive</td>\n",
              "    </tr>\n",
              "    <tr>\n",
              "      <th>2</th>\n",
              "      <td>a</td>\n",
              "      <td>245.0</td>\n",
              "      <td>5.0</td>\n",
              "      <td>u</td>\n",
              "      <td>g</td>\n",
              "      <td>q</td>\n",
              "      <td>h</td>\n",
              "      <td>15.0</td>\n",
              "      <td>t</td>\n",
              "      <td>f</td>\n",
              "      <td>0</td>\n",
              "      <td>f</td>\n",
              "      <td>g</td>\n",
              "      <td>280</td>\n",
              "      <td>824</td>\n",
              "      <td>positive</td>\n",
              "    </tr>\n",
              "    <tr>\n",
              "      <th>3</th>\n",
              "      <td>b</td>\n",
              "      <td>2783.0</td>\n",
              "      <td>154.0</td>\n",
              "      <td>u</td>\n",
              "      <td>g</td>\n",
              "      <td>w</td>\n",
              "      <td>v</td>\n",
              "      <td>375.0</td>\n",
              "      <td>t</td>\n",
              "      <td>t</td>\n",
              "      <td>5</td>\n",
              "      <td>t</td>\n",
              "      <td>g</td>\n",
              "      <td>100</td>\n",
              "      <td>3</td>\n",
              "      <td>positive</td>\n",
              "    </tr>\n",
              "    <tr>\n",
              "      <th>4</th>\n",
              "      <td>b</td>\n",
              "      <td>2017.0</td>\n",
              "      <td>5625.0</td>\n",
              "      <td>u</td>\n",
              "      <td>g</td>\n",
              "      <td>w</td>\n",
              "      <td>v</td>\n",
              "      <td>171.0</td>\n",
              "      <td>t</td>\n",
              "      <td>f</td>\n",
              "      <td>0</td>\n",
              "      <td>f</td>\n",
              "      <td>s</td>\n",
              "      <td>120</td>\n",
              "      <td>0</td>\n",
              "      <td>positive</td>\n",
              "    </tr>\n",
              "    <tr>\n",
              "      <th>...</th>\n",
              "      <td>...</td>\n",
              "      <td>...</td>\n",
              "      <td>...</td>\n",
              "      <td>...</td>\n",
              "      <td>...</td>\n",
              "      <td>...</td>\n",
              "      <td>...</td>\n",
              "      <td>...</td>\n",
              "      <td>...</td>\n",
              "      <td>...</td>\n",
              "      <td>...</td>\n",
              "      <td>...</td>\n",
              "      <td>...</td>\n",
              "      <td>...</td>\n",
              "      <td>...</td>\n",
              "      <td>...</td>\n",
              "    </tr>\n",
              "    <tr>\n",
              "      <th>648</th>\n",
              "      <td>b</td>\n",
              "      <td>2108.0</td>\n",
              "      <td>10085.0</td>\n",
              "      <td>y</td>\n",
              "      <td>p</td>\n",
              "      <td>e</td>\n",
              "      <td>h</td>\n",
              "      <td>125.0</td>\n",
              "      <td>f</td>\n",
              "      <td>f</td>\n",
              "      <td>0</td>\n",
              "      <td>f</td>\n",
              "      <td>g</td>\n",
              "      <td>260</td>\n",
              "      <td>0</td>\n",
              "      <td>negative</td>\n",
              "    </tr>\n",
              "    <tr>\n",
              "      <th>649</th>\n",
              "      <td>a</td>\n",
              "      <td>2267.0</td>\n",
              "      <td>75.0</td>\n",
              "      <td>u</td>\n",
              "      <td>g</td>\n",
              "      <td>c</td>\n",
              "      <td>v</td>\n",
              "      <td>2.0</td>\n",
              "      <td>f</td>\n",
              "      <td>t</td>\n",
              "      <td>2</td>\n",
              "      <td>t</td>\n",
              "      <td>g</td>\n",
              "      <td>200</td>\n",
              "      <td>394</td>\n",
              "      <td>negative</td>\n",
              "    </tr>\n",
              "    <tr>\n",
              "      <th>650</th>\n",
              "      <td>a</td>\n",
              "      <td>2525.0</td>\n",
              "      <td>135.0</td>\n",
              "      <td>y</td>\n",
              "      <td>p</td>\n",
              "      <td>ff</td>\n",
              "      <td>ff</td>\n",
              "      <td>2.0</td>\n",
              "      <td>f</td>\n",
              "      <td>t</td>\n",
              "      <td>1</td>\n",
              "      <td>t</td>\n",
              "      <td>g</td>\n",
              "      <td>200</td>\n",
              "      <td>1</td>\n",
              "      <td>negative</td>\n",
              "    </tr>\n",
              "    <tr>\n",
              "      <th>651</th>\n",
              "      <td>b</td>\n",
              "      <td>1792.0</td>\n",
              "      <td>205.0</td>\n",
              "      <td>u</td>\n",
              "      <td>g</td>\n",
              "      <td>aa</td>\n",
              "      <td>v</td>\n",
              "      <td>4.0</td>\n",
              "      <td>f</td>\n",
              "      <td>f</td>\n",
              "      <td>0</td>\n",
              "      <td>f</td>\n",
              "      <td>g</td>\n",
              "      <td>280</td>\n",
              "      <td>750</td>\n",
              "      <td>negative</td>\n",
              "    </tr>\n",
              "    <tr>\n",
              "      <th>652</th>\n",
              "      <td>b</td>\n",
              "      <td>35.0</td>\n",
              "      <td>3375.0</td>\n",
              "      <td>u</td>\n",
              "      <td>g</td>\n",
              "      <td>c</td>\n",
              "      <td>h</td>\n",
              "      <td>829.0</td>\n",
              "      <td>f</td>\n",
              "      <td>f</td>\n",
              "      <td>0</td>\n",
              "      <td>t</td>\n",
              "      <td>g</td>\n",
              "      <td>0</td>\n",
              "      <td>0</td>\n",
              "      <td>negative</td>\n",
              "    </tr>\n",
              "  </tbody>\n",
              "</table>\n",
              "<p>653 rows × 16 columns</p>\n",
              "</div>"
            ],
            "text/plain": [
              "    Unnamed: 0  Unnamed: 1  Unnamed: 2  ... Unnamed: 13 Unnamed: 14 Unnamed: 15\n",
              "0            b      3083.0         0.0  ...         202           0    positive\n",
              "1            a      5867.0       446.0  ...          43         560    positive\n",
              "2            a       245.0         5.0  ...         280         824    positive\n",
              "3            b      2783.0       154.0  ...         100           3    positive\n",
              "4            b      2017.0      5625.0  ...         120           0    positive\n",
              "..         ...         ...         ...  ...         ...         ...         ...\n",
              "648          b      2108.0     10085.0  ...         260           0    negative\n",
              "649          a      2267.0        75.0  ...         200         394    negative\n",
              "650          a      2525.0       135.0  ...         200           1    negative\n",
              "651          b      1792.0       205.0  ...         280         750    negative\n",
              "652          b        35.0      3375.0  ...           0           0    negative\n",
              "\n",
              "[653 rows x 16 columns]"
            ]
          },
          "metadata": {
            "tags": []
          },
          "execution_count": 2
        }
      ]
    },
    {
      "cell_type": "code",
      "metadata": {
        "id": "fWheQnwyXMRh"
      },
      "source": [
        "def distance(a,b,c,d,e,z,f,g,h,i,j,z1):\n",
        "  return math.sqrt((a-f)**2+(b-g)**2+(c-h)**2+(d-i)**2+(e-j)**2+(z-z1)**2)\n",
        "df.iloc[:,1]/=100000\n",
        "df.iloc[:,2]/=100000\n",
        "df.iloc[:,7]/=100000\n",
        "df.iloc[:,10]/=100000\n",
        "df.iloc[:,13]/=100000\n",
        "df.iloc[:,14]/=100000"
      ],
      "execution_count": null,
      "outputs": []
    },
    {
      "cell_type": "code",
      "metadata": {
        "id": "XFHlQkv7OJfi",
        "colab": {
          "base_uri": "https://localhost:8080/"
        },
        "outputId": "1e22eb0a-afee-4c5a-c257-766ce0f41f2c"
      },
      "source": [
        "import math\n",
        "import numpy as np\n",
        "dist=np.array(np.zeros((653,653), dtype=float))\n",
        "for i in range(653):\n",
        "  for j in range(653):\n",
        "    dist[i][j]=distance(df.iloc[i][1],df.iloc[i][2],df.iloc[i][7],df.iloc[i][13],df.iloc[i][14],df.iloc[i][10],df.iloc[j][1],df.iloc[j][2],df.iloc[j][7],df.iloc[j][13],df.iloc[j][14],df.iloc[i][10])\n",
        "dist\n",
        "    \n"
      ],
      "execution_count": null,
      "outputs": [
        {
          "output_type": "execute_result",
          "data": {
            "text/plain": [
              "array([[0.        , 0.02884527, 0.02958281, ..., 0.00587131, 0.01513912,\n",
              "        0.04606229],\n",
              "       [0.02884527, 0.        , 0.05657804, ..., 0.03419652, 0.04104385,\n",
              "        0.06571327],\n",
              "       [0.02958281, 0.05657804, 0.        , ..., 0.02428826, 0.01561668,\n",
              "        0.03580638],\n",
              "       ...,\n",
              "       [0.00587131, 0.03419652, 0.02428826, ..., 0.        , 0.01053373,\n",
              "        0.04173923],\n",
              "       [0.01513912, 0.04104385, 0.01561668, ..., 0.01053373, 0.        ,\n",
              "        0.03802299],\n",
              "       [0.04606229, 0.06571327, 0.03580638, ..., 0.04173923, 0.03802299,\n",
              "        0.        ]])"
            ]
          },
          "metadata": {
            "tags": []
          },
          "execution_count": 4
        }
      ]
    },
    {
      "cell_type": "code",
      "metadata": {
        "id": "oRPt_TvyWieT",
        "colab": {
          "base_uri": "https://localhost:8080/"
        },
        "outputId": "bd057a31-3e0b-4ac4-d218-259a74af2e93"
      },
      "source": [
        "dist1=np.exp(-1*dist)\n",
        "print(dist1)"
      ],
      "execution_count": null,
      "outputs": [
        {
          "output_type": "stream",
          "text": [
            "[[1.         0.97156679 0.97085047 ... 0.99414589 0.9849749  0.95498247]\n",
            " [0.97156679 1.         0.94499273 ... 0.96638157 0.95978704 0.93639932]\n",
            " [0.97085047 0.94499273 1.         ... 0.97600432 0.98450463 0.96482708]\n",
            " ...\n",
            " [0.99414589 0.96638157 0.97600432 ... 1.         0.98952156 0.95911986]\n",
            " [0.9849749  0.95978704 0.98450463 ... 0.98952156 1.         0.96269081]\n",
            " [0.95498247 0.93639932 0.96482708 ... 0.95911986 0.96269081 1.        ]]\n"
          ],
          "name": "stdout"
        }
      ]
    },
    {
      "cell_type": "code",
      "metadata": {
        "id": "02GAiDw2WRnw",
        "colab": {
          "base_uri": "https://localhost:8080/"
        },
        "outputId": "40d1eb0e-b51e-41ee-93d7-f0e4a077fc5a"
      },
      "source": [
        "classes=set(df.iloc[:,15])\n",
        "classes"
      ],
      "execution_count": null,
      "outputs": [
        {
          "output_type": "execute_result",
          "data": {
            "text/plain": [
              "{'negative', 'positive'}"
            ]
          },
          "metadata": {
            "tags": []
          },
          "execution_count": 6
        }
      ]
    },
    {
      "cell_type": "code",
      "metadata": {
        "id": "gtmSEA5sowjk",
        "colab": {
          "base_uri": "https://localhost:8080/"
        },
        "outputId": "f1148120-a3fa-4e6a-9d8f-f211465634a2"
      },
      "source": [
        "dist"
      ],
      "execution_count": null,
      "outputs": [
        {
          "output_type": "execute_result",
          "data": {
            "text/plain": [
              "array([[0.        , 0.02884527, 0.02958281, ..., 0.00587131, 0.01513912,\n",
              "        0.04606229],\n",
              "       [0.02884527, 0.        , 0.05657804, ..., 0.03419652, 0.04104385,\n",
              "        0.06571327],\n",
              "       [0.02958281, 0.05657804, 0.        , ..., 0.02428826, 0.01561668,\n",
              "        0.03580638],\n",
              "       ...,\n",
              "       [0.00587131, 0.03419652, 0.02428826, ..., 0.        , 0.01053373,\n",
              "        0.04173923],\n",
              "       [0.01513912, 0.04104385, 0.01561668, ..., 0.01053373, 0.        ,\n",
              "        0.03802299],\n",
              "       [0.04606229, 0.06571327, 0.03580638, ..., 0.04173923, 0.03802299,\n",
              "        0.        ]])"
            ]
          },
          "metadata": {
            "tags": []
          },
          "execution_count": 20
        }
      ]
    },
    {
      "cell_type": "code",
      "metadata": {
        "id": "v6xbY5Ip8PnQ",
        "colab": {
          "base_uri": "https://localhost:8080/"
        },
        "outputId": "c38bcee7-f1be-4f91-e4f0-9abc0037c9cf"
      },
      "source": [
        "list=[0,3,4,5,6,8,9,11,12]\n",
        "similarity_index=np.array(np.zeros((653,653), dtype=float))\n",
        "for j in list:  \n",
        "  print(j)\n",
        "  for i in range(len(df)):\n",
        "    for z in range(i+1 ,len(df)):\n",
        "      if(df.iloc[i][j] == df.iloc[z][j]):\n",
        "        similarity_index[i][j]=1\n",
        "        similarity_index[z][j]=1\n",
        "similarity_index"
      ],
      "execution_count": null,
      "outputs": [
        {
          "output_type": "stream",
          "text": [
            "0\n",
            "3\n",
            "4\n",
            "5\n",
            "6\n",
            "8\n",
            "9\n",
            "11\n",
            "12\n"
          ],
          "name": "stdout"
        },
        {
          "output_type": "execute_result",
          "data": {
            "text/plain": [
              "array([[1., 0., 0., ..., 0., 0., 0.],\n",
              "       [1., 0., 0., ..., 0., 0., 0.],\n",
              "       [1., 0., 0., ..., 0., 0., 0.],\n",
              "       ...,\n",
              "       [1., 0., 0., ..., 0., 0., 0.],\n",
              "       [1., 0., 0., ..., 0., 0., 0.],\n",
              "       [1., 0., 0., ..., 0., 0., 0.]])"
            ]
          },
          "metadata": {
            "tags": []
          },
          "execution_count": 8
        }
      ]
    },
    {
      "cell_type": "code",
      "metadata": {
        "id": "gUgogCmnXrYe",
        "colab": {
          "base_uri": "https://localhost:8080/"
        },
        "outputId": "cac89dbe-f5d1-47c8-adf4-6ab7a21a5e16"
      },
      "source": [
        "entropy=np.array(np.zeros((9,1), dtype=float))\n",
        "val=0\n",
        "bro=0\n",
        "for j in list:\n",
        "  category=set(df.iloc[:,j])\n",
        "  cnt=0\n",
        "  val=0\n",
        "  for z in category:\n",
        "    cnt=0\n",
        "    for i in range(len(df)):\n",
        "      if(df.iloc[i][j]==z):\n",
        "        cnt+=1\n",
        "    prob=cnt/653\n",
        "    log_prob=math.log(prob)\n",
        "    val+=(prob*log_prob)\n",
        "  if(bro<9):\n",
        "    entropy[bro]=-1*val\n",
        "    bro+=1\n",
        "    \n",
        "  category={}\n",
        "print(entropy)\n"
      ],
      "execution_count": null,
      "outputs": [
        {
          "output_type": "stream",
          "text": [
            "[[0.6197973 ]\n",
            " [0.56257778]\n",
            " [0.56257778]\n",
            " [2.43161089]\n",
            " [1.25182575]\n",
            " [0.69077082]\n",
            " [0.68581113]\n",
            " [0.69032916]\n",
            " [0.30212991]]\n"
          ],
          "name": "stdout"
        }
      ]
    },
    {
      "cell_type": "code",
      "metadata": {
        "id": "Q8iJyt1BcKNz",
        "colab": {
          "base_uri": "https://localhost:8080/"
        },
        "outputId": "652170f9-ef9b-4c81-bf42-2923cb509be4"
      },
      "source": [
        "sum=0\n",
        "for i in entropy:\n",
        "  sum+=i\n",
        "bro=0\n",
        "for i in list:\n",
        "  if(bro<9):\n",
        "    similarity_index[:,i]=entropy[bro]/sum\n",
        "  bro+=1\n",
        "sum=np.sum(similarity_index)\n",
        "sum=9/15*sum\n",
        "sum"
      ],
      "execution_count": null,
      "outputs": [
        {
          "output_type": "execute_result",
          "data": {
            "text/plain": [
              "391.8"
            ]
          },
          "metadata": {
            "tags": []
          },
          "execution_count": 10
        }
      ]
    },
    {
      "cell_type": "code",
      "metadata": {
        "id": "V_NRL7r0pihU",
        "colab": {
          "base_uri": "https://localhost:8080/"
        },
        "outputId": "f6618bf4-6042-4d6b-8e23-30657d44d1d6"
      },
      "source": [
        "#similarity matrix\n",
        "dist2=6/15*dist1+sum\n",
        "print(dist2)"
      ],
      "execution_count": null,
      "outputs": [
        {
          "output_type": "stream",
          "text": [
            "[[392.2        392.18862671 392.18834019 ... 392.19765836 392.19398996\n",
            "  392.18199299]\n",
            " [392.18862671 392.2        392.17799709 ... 392.18655263 392.18391482\n",
            "  392.17455973]\n",
            " [392.18834019 392.17799709 392.2        ... 392.19040173 392.19380185\n",
            "  392.18593083]\n",
            " ...\n",
            " [392.19765836 392.18655263 392.19040173 ... 392.2        392.19580862\n",
            "  392.18364794]\n",
            " [392.19398996 392.18391482 392.19380185 ... 392.19580862 392.2\n",
            "  392.18507633]\n",
            " [392.18199299 392.17455973 392.18593083 ... 392.18364794 392.18507633\n",
            "  392.2       ]]\n"
          ],
          "name": "stdout"
        }
      ]
    },
    {
      "cell_type": "code",
      "metadata": {
        "id": "1Wl63CKnpjdu"
      },
      "source": [
        "def hierarchical_clustering(dist,linkage,no_of_clusters):  \n",
        "    #first step is to calculate the initial distance matrix\n",
        "    #it consists distances from all the point to all the point\n",
        "    color = ['r','g','b','y','c','m','k','w']\n",
        "    # initial_distances = pairwise_distances(data,metric='euclidean')\n",
        "    #making all the diagonal elements infinity \n",
        "    np.fill_diagonal(dist,sys.maxsize)\n",
        "    clusters = find_clusters(dist,linkage)\n",
        "    \n",
        "    #plotting the clusters\n",
        "    iteration_number = dist.shape[0] - no_of_clusters\n",
        "    clusters_to_plot = clusters[iteration_number]\n",
        "    # arr = np.unique(clusters_to_plot)\n",
        "    \n",
        "    # indices_to_plot = []\n",
        "    # fig = plt.figure()\n",
        "    # fig.suptitle('Scatter Plot for clusters')\n",
        "    # ax = fig.add_subplot(1,1,1)\n",
        "    # ax.set_xlabel('X')\n",
        "    # ax.set_ylabel('Y')\n",
        "    # for x in np.nditer(arr):\n",
        "    #     indices_to_plot.append(np.where(clusters_to_plot==x))\n",
        "    # p=0\n",
        "    \n",
        "    \n",
        "    print(clusters_to_plot)\n",
        "    # for i in range(0,len(indices_to_plot)):\n",
        "    #     for j in np.nditer(indices_to_plot[i]):\n",
        "    #            ax.scatter(df.iloc[j,0],df.[j,1], c= color[p])\n",
        "    #     p = p + 1\n",
        "        \n",
        "    # plt.show()"
      ],
      "execution_count": null,
      "outputs": []
    },
    {
      "cell_type": "code",
      "metadata": {
        "id": "JtH44voEsImj"
      },
      "source": [
        "def find_clusters(input,linkage):\n",
        "    clusters = {}\n",
        "    row_index = -1\n",
        "    col_index = -1\n",
        "    array = []\n",
        "    \n",
        "\n",
        "    for n in range(input.shape[0]):\n",
        "        array.append(n)\n",
        "        \n",
        "    clusters[0] = array.copy()\n",
        "\n",
        "    #finding minimum value from the distance matrix\n",
        "    #note that this loop will always return minimum value from bottom triangle of matrix\n",
        "    for k in range(1, input.shape[0]):\n",
        "        min_val = sys.maxsize\n",
        "  \n",
        "        for i in range(0, input.shape[0]):\n",
        "            for j in range(0, input.shape[1]):\n",
        "                if(input[i][j]<=min_val):\n",
        "                    min_val = input[i][j]\n",
        "                    row_index = i\n",
        "                    col_index = j\n",
        "        \n",
        "        #once we find the minimum value, we need to update the distance matrix\n",
        "        #updating the matrix by calculating the new distances from the cluster to all points\n",
        "        \n",
        "        #for Single Linkage\n",
        "        if(linkage == \"single\" or linkage ==\"Single\"):\n",
        "            for i in range(0,input.shape[0]):\n",
        "                if(i != col_index):\n",
        "                    #we calculate the distance of every data point from newly formed cluster and update the matrix.\n",
        "                    temp = min(input[col_index][i],input[row_index][i])\n",
        "                    #we update the matrix symmetrically as our distance matrix should always be symmetric\n",
        "                    input[col_index][i] = temp\n",
        "                    input[i][col_index] = temp\n",
        "        #for Complete Linkage\n",
        "        elif(linkage==\"Complete\" or linkage == \"complete\"):\n",
        "             for i in range(0,input.shape[0]):\n",
        "                if(i != col_index and i!=row_index):\n",
        "                    temp = min(input[col_index][i],input[row_index][i])\n",
        "                    input[col_index][i] = temp\n",
        "                    input[i][col_index] = temp\n",
        "        #for Average Linkage\n",
        "        elif(linkage==\"Average\" or linkage == \"average\"):\n",
        "             for i in range(0,input.shape[0]):\n",
        "                if(i != col_index and i!=row_index):\n",
        "                    temp = (input[col_index][i]+input[row_index][i])/2\n",
        "                    input[col_index][i] = temp\n",
        "                    input[i][col_index] = temp\n",
        "        \n",
        "        elif(linkage==\"Centroid\" or linkage ==\"centroid\"):\n",
        "            for i in range(0,input.shape[0]):\n",
        "                if(i!=col_index and i!=row_index):\n",
        "                    dist_centroid = cal_dist_from_centroid(i,row_index,col_index)\n",
        "                    input[col_index][i] = dist_centroid\n",
        "                    input[i][col_index] = dist_centroid\n",
        "                   \n",
        "        #set the rows and columns for the cluster with higher index i.e. the row index to infinity\n",
        "        #Set input[row_index][for_all_i] = infinity\n",
        "        #set input[for_all_i][row_index] = infinity\n",
        "        for i in range (0,input.shape[0]):\n",
        "            input[row_index][i] = sys.maxsize\n",
        "            input[i][row_index] = sys.maxsize\n",
        "            \n",
        "        #Manipulating the dictionary to keep track of cluster formation in each step\n",
        "        #if k=0,then all datapoints are clusters\n",
        "       \n",
        "        minimum = min(row_index,col_index)\n",
        "        maximum = max(row_index,col_index)\n",
        "        for n in range(len(array)):\n",
        "            if(array[n]==maximum):\n",
        "                array[n] = minimum\n",
        "        clusters[k] = array.copy()\n",
        "           \n",
        "    return clusters"
      ],
      "execution_count": null,
      "outputs": []
    },
    {
      "cell_type": "code",
      "metadata": {
        "id": "pQ7RycLOsJlX"
      },
      "source": [
        "from sklearn.metrics.pairwise import pairwise_distances\n",
        "import sys\n",
        "dist3=np.log(1/dist2)"
      ],
      "execution_count": null,
      "outputs": []
    },
    {
      "cell_type": "code",
      "metadata": {
        "id": "HFndNP_yv8c2",
        "colab": {
          "base_uri": "https://localhost:8080/"
        },
        "outputId": "7af9511c-0ba7-417e-d153-07913b082ece"
      },
      "source": [
        "hierarchical_clustering(dist4,\"single\",2)\n"
      ],
      "execution_count": null,
      "outputs": [
        {
          "output_type": "stream",
          "text": [
            "[0, 0, 0, 0, 0, 0, 0, 0, 0, 0, 0, 0, 0, 0, 0, 0, 0, 0, 0, 0, 0, 0, 0, 0, 0, 0, 0, 0, 0, 0, 0, 0, 0, 0, 0, 0, 0, 0, 0, 0, 0, 0, 0, 0, 0, 0, 0, 0, 0, 0, 0, 0, 0, 0, 0, 0, 0, 0, 0, 0, 0, 0, 0, 0, 0, 65, 0, 0, 0, 0, 0, 0, 0, 0, 0, 0, 0, 0, 0, 0, 0, 0, 0, 0, 0, 0, 0, 0, 0, 0, 0, 0, 0, 0, 0, 0, 0, 0, 0, 0, 0, 0, 0, 0, 0, 0, 0, 0, 0, 0, 0, 0, 0, 0, 0, 0, 0, 0, 0, 0, 0, 0, 0, 0, 0, 0, 0, 0, 0, 0, 0, 0, 0, 0, 0, 0, 0, 0, 0, 0, 0, 0, 0, 0, 0, 0, 0, 0, 0, 0, 0, 0, 0, 0, 0, 0, 0, 0, 0, 0, 0, 0, 0, 0, 0, 0, 0, 0, 0, 0, 0, 0, 0, 0, 0, 0, 0, 0, 0, 0, 0, 0, 0, 0, 0, 0, 0, 0, 0, 0, 0, 0, 0, 0, 0, 0, 0, 0, 0, 0, 0, 0, 0, 0, 0, 0, 0, 0, 0, 0, 0, 0, 0, 0, 0, 0, 0, 0, 0, 0, 0, 0, 0, 0, 0, 0, 0, 0, 0, 0, 0, 0, 0, 0, 0, 0, 0, 0, 0, 0, 0, 0, 0, 0, 0, 0, 0, 0, 0, 0, 0, 0, 0, 0, 0, 0, 0, 0, 0, 0, 0, 0, 0, 0, 0, 0, 0, 0, 0, 0, 0, 0, 0, 0, 0, 0, 0, 0, 0, 0, 0, 0, 0, 0, 0, 0, 0, 0, 0, 0, 0, 0, 0, 0, 0, 0, 0, 0, 0, 0, 0, 0, 0, 0, 0, 0, 0, 0, 0, 0, 0, 0, 0, 0, 0, 0, 0, 0, 0, 0, 0, 0, 0, 0, 0, 0, 0, 0, 0, 0, 0, 0, 0, 0, 0, 0, 0, 0, 0, 0, 0, 0, 0, 0, 0, 0, 0, 0, 0, 0, 0, 0, 0, 0, 0, 0, 0, 0, 0, 0, 0, 0, 0, 0, 0, 0, 0, 0, 0, 0, 0, 0, 0, 0, 0, 0, 0, 0, 0, 0, 0, 0, 0, 0, 0, 0, 0, 0, 0, 0, 0, 0, 0, 0, 0, 0, 0, 0, 0, 0, 0, 0, 0, 0, 0, 0, 0, 0, 0, 0, 0, 0, 0, 0, 0, 0, 0, 0, 0, 0, 0, 0, 0, 0, 0, 0, 0, 0, 0, 0, 0, 0, 0, 0, 0, 0, 0, 0, 0, 0, 0, 0, 0, 0, 0, 0, 0, 0, 0, 0, 0, 0, 0, 0, 0, 0, 0, 0, 0, 0, 0, 0, 0, 0, 0, 0, 0, 0, 0, 0, 0, 0, 0, 0, 0, 0, 0, 0, 0, 0, 0, 0, 0, 0, 0, 0, 0, 0, 0, 0, 0, 0, 0, 0, 0, 0, 0, 0, 0, 0, 0, 0, 0, 0, 0, 0, 0, 0, 0, 0, 0, 0, 0, 0, 0, 0, 0, 0, 0, 0, 0, 0, 0, 0, 0, 0, 0, 0, 0, 0, 0, 0, 0, 0, 0, 0, 0, 0, 0, 0, 0, 0, 0, 0, 0, 0, 0, 0, 0, 0, 0, 0, 0, 0, 0, 0, 0, 0, 0, 0, 0, 0, 0, 0, 0, 0, 0, 0, 0, 0, 0, 0, 0, 0, 0, 0, 0, 0, 0, 0, 0, 0, 0, 0, 0, 0, 0, 0, 0, 0, 0, 0, 0, 0, 0, 0, 0, 0, 0, 0, 0, 0, 0, 0, 0, 0, 0, 0, 0, 0, 0, 0, 0, 0, 0, 0, 0, 0, 0, 0, 0, 0, 0, 0, 0, 0, 0, 0, 0, 0, 0, 0, 0, 0, 0, 0, 0, 0, 0, 0, 0, 0, 0, 0, 0, 0, 0, 0, 0, 0, 0, 0, 0]\n"
          ],
          "name": "stdout"
        }
      ]
    },
    {
      "cell_type": "code",
      "metadata": {
        "id": "wBz_YR1AzwNY",
        "colab": {
          "base_uri": "https://localhost:8080/"
        },
        "outputId": "64584573-0adb-413c-ad66-cd106c1655ba"
      },
      "source": [
        "dist4=-1*dist3\n",
        "# dist4*=10**8\n",
        "dist4"
      ],
      "execution_count": null,
      "outputs": [
        {
          "output_type": "execute_result",
          "data": {
            "text/plain": [
              "array([[5.97177191, 5.97174291, 5.97174218, ..., 5.97176594, 5.97175659,\n",
              "        5.971726  ],\n",
              "       [5.97174291, 5.97177191, 5.97171581, ..., 5.97173763, 5.9717309 ,\n",
              "        5.97170705],\n",
              "       [5.97174218, 5.97171581, 5.97177191, ..., 5.97174744, 5.97175611,\n",
              "        5.97173604],\n",
              "       ...,\n",
              "       [5.97176594, 5.97173763, 5.97174744, ..., 5.97177191, 5.97176123,\n",
              "        5.97173022],\n",
              "       [5.97175659, 5.9717309 , 5.97175611, ..., 5.97176123, 5.97177191,\n",
              "        5.97173386],\n",
              "       [5.971726  , 5.97170705, 5.97173604, ..., 5.97173022, 5.97173386,\n",
              "        5.97177191]])"
            ]
          },
          "metadata": {
            "tags": []
          },
          "execution_count": 33
        }
      ]
    }
  ]
}