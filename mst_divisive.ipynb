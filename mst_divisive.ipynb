{
  "nbformat": 4,
  "nbformat_minor": 0,
  "metadata": {
    "colab": {
      "name": "mst-divisive.ipynb",
      "provenance": [],
      "collapsed_sections": []
    },
    "kernelspec": {
      "name": "python3",
      "display_name": "Python 3"
    }
  },
  "cells": [
    {
      "cell_type": "code",
      "metadata": {
        "id": "XQtksel2raAl",
        "colab": {
          "base_uri": "https://localhost:8080/"
        },
        "outputId": "33bc3372-565f-4204-9a7a-18f476e6e2aa"
      },
      "source": [
        "from google.colab import drive\n",
        "drive.mount('/content/drive')"
      ],
      "execution_count": null,
      "outputs": [
        {
          "output_type": "stream",
          "text": [
            "Mounted at /content/drive\n"
          ],
          "name": "stdout"
        }
      ]
    },
    {
      "cell_type": "code",
      "metadata": {
        "id": "AQv2G5skrq42"
      },
      "source": [
        "import pandas as pd\n",
        "import tensorflow as tf\n",
        "import numpy as np\n",
        "import matplotlib.pyplot as plt\n",
        "import math"
      ],
      "execution_count": null,
      "outputs": []
    },
    {
      "cell_type": "code",
      "metadata": {
        "id": "mxa6RaHnsT97"
      },
      "source": [
        "df=pd.read_csv('/content/drive/My Drive/DLALS/Aggregation_k=7.txt',sep='\\t',header=None)"
      ],
      "execution_count": null,
      "outputs": []
    },
    {
      "cell_type": "code",
      "metadata": {
        "id": "9-8KsHqesfUx"
      },
      "source": [
        "X=df[0]\n",
        "Y=df[1]\n",
        "classes =set(df[2])"
      ],
      "execution_count": null,
      "outputs": []
    },
    {
      "cell_type": "code",
      "metadata": {
        "id": "ZQi7nMhpsf7e",
        "colab": {
          "base_uri": "https://localhost:8080/",
          "height": 283
        },
        "outputId": "a47c8267-8567-403d-ad7e-98ceee528376"
      },
      "source": [
        "plt.scatter(X,Y,s=10)\n",
        "plt.scatter(X[:52],Y[:52],s=10)"
      ],
      "execution_count": null,
      "outputs": [
        {
          "output_type": "execute_result",
          "data": {
            "text/plain": [
              "<matplotlib.collections.PathCollection at 0x7f7b8db89a20>"
            ]
          },
          "metadata": {
            "tags": []
          },
          "execution_count": 24
        },
        {
          "output_type": "display_data",
          "data": {
            "image/png": "[encoded data removed]",
            "text/plain": [
              "<Figure size 432x288 with 1 Axes>"
            ]
          },
          "metadata": {
            "tags": [],
            "needs_background": "light"
          }
        }
      ]
    },
    {
      "cell_type": "markdown",
      "metadata": {
        "id": "QQHCThM-s1Xm"
      },
      "source": [
        "**MST OF TOP 52 DATAPOINTS**"
      ]
    },
    {
      "cell_type": "code",
      "metadata": {
        "id": "fKvXOZmzuCV7"
      },
      "source": [
        "data=df.iloc[:,:-1]"
      ],
      "execution_count": null,
      "outputs": []
    },
    {
      "cell_type": "code",
      "metadata": {
        "id": "InGjdiqJuRqv"
      },
      "source": [
        "#euclidean distance that will act as edge weights\n",
        "def distance(a,b):\n",
        "  return (math.sqrt((a[0]-b[0])**2+(a[1]-b[1])**2))"
      ],
      "execution_count": null,
      "outputs": []
    },
    {
      "cell_type": "code",
      "metadata": {
        "id": "4uSvZ7MgszjZ",
        "colab": {
          "base_uri": "https://localhost:8080/"
        },
        "outputId": "40b57ece-df91-49c0-914a-3f3248f680d4"
      },
      "source": [
        "class Graph: \n",
        "  \n",
        "    def __init__(self, NoOfNode,vertices): \n",
        "        self.V= NoOfNode\n",
        "        self.vertices =  vertices\n",
        "        self.graph = []\n",
        "    def addEdge(self,u,v,w): \n",
        "        self.graph.append([u,v,w]) \n",
        "    def find(self, parent, i): \n",
        "        if parent[i] == i: \n",
        "            return i \n",
        "        return self.find(parent, parent[i]) \n",
        "\n",
        "    def union(self, parent, rank, x, y): \n",
        "        xroot = self.find(parent, x) \n",
        "        yroot = self.find(parent, y) \n",
        " \n",
        "        if rank[xroot] < rank[yroot]: \n",
        "            parent[xroot] = yroot \n",
        "        elif rank[xroot] > rank[yroot]: \n",
        "            parent[yroot] = xroot \n",
        "        else : \n",
        "            parent[yroot] = xroot \n",
        "            rank[xroot] += 1\n",
        "\n",
        "    def KruskalMST(self): \n",
        "        result =[] \n",
        "        i = 0\n",
        "        e = 0 \n",
        "        self.graph =  sorted(self.graph,key=lambda item: item[2]) \n",
        "        parent = {} ; rank = {} \n",
        "        for node in self.vertices: \n",
        "            parent[node] = node \n",
        "            rank[node] = 0 \n",
        "        while e < self.V -1 : \n",
        "            u,v,w =  self.graph[i] \n",
        "            i = i + 1\n",
        "            x = self.find(parent, u) \n",
        "            y = self.find(parent ,v) \n",
        "            if x != y: \n",
        "                e = e + 1     \n",
        "                result.append([u,v]) \n",
        "                self.union(parent, rank, x, y)\n",
        "\n",
        "        return result\n",
        "#51 PROBABLE CENTERS ALIAS NAMES : \n",
        "vertices = ['A', 'B', 'C', 'D', 'E','F','G','H','I','J','K','L','M','N','O','P','Q','R','S','T','U','V','W','X','Y','Z','A1', 'B1', 'C1', 'D1', 'E1','F1','G1','H1','I1','J1','K1','L1','M1','N1','O1','P1','Q1','R1','S1','T1','U1','V1','W1','X1','Y1']\n",
        "N = 51\n",
        "g = Graph(N, vertices)\n",
        "for i in range(N):\n",
        "  for j in range(N):\n",
        "    g.addEdge(vertices[i],vertices[j],distance(data.iloc[i],data.iloc[j]))\n",
        "MST = g.KruskalMST()\n",
        "print(MST)\n"
      ],
      "execution_count": null,
      "outputs": [
        {
          "output_type": "stream",
          "text": [
            "[['L', 'M'], ['L1', 'M1'], ['Q1', 'R1'], ['N1', 'O1'], ['U1', 'V1'], ['Z', 'A1'], ['M1', 'N1'], ['U1', 'W1'], ['C', 'D'], ['B1', 'D1'], ['E1', 'F1'], ['O', 'P'], ['K', 'L'], ['I1', 'J1'], ['E', 'F'], ['O1', 'S1'], ['T', 'U'], ['R1', 'S1'], ['X1', 'Y1'], ['R', 'T'], ['V1', 'X1'], ['E', 'H'], ['T1', 'U1'], ['J', 'K'], ['H1', 'I1'], ['H', 'J'], ['Q', 'Z'], ['U', 'X'], ['U', 'V'], ['I', 'P'], ['Q', 'T'], ['R', 'S'], ['J1', 'L1'], ['P1', 'Q1'], ['M1', 'T1'], ['C', 'E'], ['G1', 'W1'], ['F', 'G'], ['W', 'J1'], ['B1', 'E1'], ['C1', 'D1'], ['V', 'W'], ['J', 'P'], ['X', 'Y'], ['A1', 'E1'], ['K1', 'P1'], ['B', 'C'], ['N', 'O'], ['J', 'Q'], ['A', 'C']]\n"
          ],
          "name": "stdout"
        }
      ]
    },
    {
      "cell_type": "code",
      "metadata": {
        "id": "J-GepxTEuQIv",
        "colab": {
          "base_uri": "https://localhost:8080/"
        },
        "outputId": "975bbe93-a4a5-4c00-a581-84d599055d49"
      },
      "source": [
        "#indexes are here , which probable center connected with which we can find it easily now:\n",
        "indexing=[]\n",
        "for i in MST:\n",
        "  a=vertices.index(i[0])\n",
        "  b=vertices.index(i[1])\n",
        "  indexing.append([a,b])\n",
        "print(indexing)\n",
        "\n"
      ],
      "execution_count": null,
      "outputs": [
        {
          "output_type": "stream",
          "text": [
            "[[11, 12], [37, 38], [42, 43], [39, 40], [46, 47], [25, 26], [38, 39], [46, 48], [2, 3], [27, 29], [30, 31], [14, 15], [10, 11], [34, 35], [4, 5], [40, 44], [19, 20], [43, 44], [49, 50], [17, 19], [47, 49], [4, 7], [45, 46], [9, 10], [33, 34], [7, 9], [16, 25], [20, 23], [20, 21], [8, 15], [16, 19], [17, 18], [35, 37], [41, 42], [38, 45], [2, 4], [32, 48], [5, 6], [22, 35], [27, 30], [28, 29], [21, 22], [9, 15], [23, 24], [26, 30], [36, 41], [1, 2], [13, 14], [9, 16], [0, 2]]\n"
          ],
          "name": "stdout"
        }
      ]
    },
    {
      "cell_type": "code",
      "metadata": {
        "id": "nxPl4mRXurbR",
        "colab": {
          "base_uri": "https://localhost:8080/",
          "height": 265
        },
        "outputId": "ea5857e7-535f-4627-f12f-4ee507cc8bc0"
      },
      "source": [
        "mst_plot_x=[]\n",
        "mst_plot_y=[]\n",
        "for i in indexing:\n",
        "  mst_plot_x.extend([data.iloc[i[0]][0]])\n",
        "  mst_plot_x.extend([data.iloc[i[1]][0]])\n",
        "  mst_plot_y.extend([data.iloc[i[0]][1]])\n",
        "  mst_plot_y.extend([data.iloc[i[1]][1]])\n",
        "plt.scatter(X[:51],Y[:51],color='black',s=10)\n",
        "for i in range(51):\n",
        "  plt.scatter(data.iloc[i][0],data.iloc[i][1],color='red',s=70,marker='.')\n",
        "# plt.plot(mst_plot_x,mst_plot_y)\n",
        "for i in range(0, len(mst_plot_x), 2):\n",
        "    plt.plot(mst_plot_x[i:i+2], mst_plot_y[i:i+2], 'ro-')"
      ],
      "execution_count": null,
      "outputs": [
        {
          "output_type": "display_data",
          "data": {
            "image/png": "[encoded data removed]",
            "text/plain": [
              "<Figure size 432x288 with 1 Axes>"
            ]
          },
          "metadata": {
            "tags": [],
            "needs_background": "light"
          }
        }
      ]
    },
    {
      "cell_type": "code",
      "metadata": {
        "id": "TOfY1qKavknE",
        "colab": {
          "base_uri": "https://localhost:8080/",
          "height": 1000
        },
        "outputId": "a4518158-0fac-471d-bd83-44ef3f5bf896"
      },
      "source": [
        "for i in indexing:\n",
        "  print(distance(data.iloc[i[0]],data.iloc[i[1]]))\n",
        "#last k-1 nodes gives longest edges removing that\n",
        "plt.scatter(X[:51],Y[:51],color='black',s=10)\n",
        "for i in range(51):\n",
        "  plt.scatter(data.iloc[i][0],data.iloc[i][1],color='red',s=70,marker='.')\n",
        "#removing k-1 = 6 edges, plot we get is :\n",
        "for i in range(0, len(mst_plot_x)-12, 2):\n",
        "    plt.plot(mst_plot_x[i:i+2], mst_plot_y[i:i+2], 'ro-')"
      ],
      "execution_count": null,
      "outputs": [
        {
          "output_type": "stream",
          "text": [
            "0.26925824035672574\n",
            "0.4031128874149261\n",
            "0.4031128874149288\n",
            "0.44721359549995715\n",
            "0.44721359549995954\n",
            "0.4609772228646471\n",
            "0.4743416490252558\n",
            "0.5000000000000007\n",
            "0.5408326913195972\n",
            "0.5500000000000007\n",
            "0.552268050859362\n",
            "0.5522680508593636\n",
            "0.5590169943749446\n",
            "0.5590169943749483\n",
            "0.5656854249492372\n",
            "0.58309518948453\n",
            "0.5830951894845304\n",
            "0.5852349955359809\n",
            "0.6020797289396145\n",
            "0.6082762530298234\n",
            "0.6184658438426471\n",
            "0.6264982043070844\n",
            "0.6363961030678917\n",
            "0.6403124237432851\n",
            "0.6519202405202634\n",
            "0.667083203206315\n",
            "0.6670832032063154\n",
            "0.672681202353685\n",
            "0.6964194138592079\n",
            "0.6999999999999993\n",
            "0.7211102550927968\n",
            "0.7280109889280509\n",
            "0.7382411530116695\n",
            "0.7433034373659232\n",
            "0.7516648189186454\n",
            "0.7615773105863904\n",
            "0.7632168761236869\n",
            "0.7826237921249256\n",
            "0.7905694150420943\n",
            "0.8139410298049857\n",
            "0.8321658488546609\n",
            "0.8558621384311839\n",
            "0.8558621384311859\n",
            "0.8602325267042621\n",
            "0.8602325267042621\n",
            "0.8732124598286504\n",
            "0.9178779875342921\n",
            "0.9617692030835658\n",
            "1.0124228365658308\n",
            "1.1401754250991385\n"
          ],
          "name": "stdout"
        },
        {
          "output_type": "display_data",
          "data": {
            "image/png": "[encoded data removed]",
            "text/plain": [
              "<Figure size 432x288 with 1 Axes>"
            ]
          },
          "metadata": {
            "tags": [],
            "needs_background": "light"
          }
        }
      ]
    },
    {
      "cell_type": "code",
      "metadata": {
        "id": "TrJ5U8RlwJ86"
      },
      "source": [
        ""
      ],
      "execution_count": null,
      "outputs": []
    }
  ]
}