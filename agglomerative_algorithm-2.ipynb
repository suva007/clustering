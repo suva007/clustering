{
  "nbformat": 4,
  "nbformat_minor": 0,
  "metadata": {
    "colab": {
      "name": "agglomerative algorithm.ipynb",
      "provenance": [],
      "collapsed_sections": []
    },
    "kernelspec": {
      "name": "python3",
      "display_name": "Python 3"
    },
    "accelerator": "GPU"
  },
  "cells": [
    {
      "cell_type": "markdown",
      "metadata": {
        "id": "xy1YS_ld5UNN"
      },
      "source": [
        "**1.Importing important libraries and defining data on which algorithm is to be applied**"
      ]
    },
    {
      "cell_type": "code",
      "metadata": {
        "id": "AR9OvpphvUZQ",
        "colab": {
          "base_uri": "https://localhost:8080/"
        },
        "outputId": "a19e0bc9-6521-4ae7-c815-ac126f1eca46"
      },
      "source": [
        "import pandas as pd\n",
        "import tensorflow as tf\n",
        "import numpy as np\n",
        "#Our Dataset\n",
        "# data = np.array([0.40,0.53,0.22,0.38,0.35,0.32,0.26,0.19,0.08,0.41,0.45,0.30]).reshape(6,2)\n",
        "data=[[np.random.randint(1,50),np.random.randint(50,100)] for i in range(100)]\n",
        "print(data)\n",
        "from sklearn.metrics.pairwise import pairwise_distances\n",
        "import sys\n",
        "data=np.array(data)"
      ],
      "execution_count": null,
      "outputs": [
        {
          "output_type": "stream",
          "text": [
            "[[47, 80], [6, 72], [48, 68], [8, 79], [19, 84], [22, 97], [39, 64], [17, 94], [30, 79], [33, 72], [22, 94], [27, 53], [24, 81], [47, 50], [43, 88], [46, 77], [45, 78], [38, 91], [24, 70], [47, 73], [40, 58], [8, 85], [46, 65], [48, 76], [25, 82], [44, 88], [1, 65], [41, 96], [47, 63], [6, 89], [3, 88], [7, 90], [12, 71], [44, 89], [10, 97], [40, 73], [35, 58], [26, 95], [31, 61], [21, 96], [1, 53], [46, 55], [21, 86], [32, 97], [16, 71], [39, 97], [27, 59], [14, 58], [31, 73], [21, 64], [18, 68], [33, 66], [1, 62], [18, 67], [7, 63], [37, 75], [24, 54], [36, 76], [35, 85], [37, 70], [36, 84], [2, 64], [39, 94], [44, 84], [36, 97], [46, 89], [44, 67], [49, 93], [27, 95], [19, 69], [43, 95], [27, 95], [33, 69], [39, 59], [30, 81], [33, 82], [22, 76], [25, 86], [41, 83], [11, 70], [5, 90], [31, 92], [23, 73], [37, 71], [36, 90], [21, 87], [10, 82], [28, 74], [8, 92], [8, 68], [43, 92], [8, 72], [6, 95], [21, 77], [35, 80], [25, 90], [13, 93], [12, 63], [33, 86], [24, 60]]\n"
          ],
          "name": "stdout"
        }
      ]
    },
    {
      "cell_type": "markdown",
      "metadata": {
        "id": "HxPGBBPsZzXO"
      },
      "source": [
        "**2.Visualizing Data**"
      ]
    },
    {
      "cell_type": "code",
      "metadata": {
        "id": "sx_chhdayZpP",
        "colab": {
          "base_uri": "https://localhost:8080/",
          "height": 325
        },
        "outputId": "8d7030a0-a98b-4d31-d6a1-0ee0f67d2906"
      },
      "source": [
        "\n",
        "import matplotlib.pyplot as plt\n",
        "fig = plt.figure()\n",
        "fig.suptitle('Scatter Plot for clusters')\n",
        "ax = fig.add_subplot(1,1,1)\n",
        "ax.set_xlabel('X')\n",
        "ax.set_ylabel('Y')\n",
        "ax.scatter(data[:,0],data[:,1])"
      ],
      "execution_count": null,
      "outputs": [
        {
          "output_type": "execute_result",
          "data": {
            "text/plain": [
              "<matplotlib.collections.PathCollection at 0x7f0923d652b0>"
            ]
          },
          "metadata": {
            "tags": []
          },
          "execution_count": 19
        },
        {
          "output_type": "display_data",
          "data": {
            "image/png": "[encoded data removed]",
            "text/plain": [
              "<Figure size 432x288 with 1 Axes>"
            ]
          },
          "metadata": {
            "tags": [],
            "needs_background": "light"
          }
        }
      ]
    },
    {
      "cell_type": "markdown",
      "metadata": {
        "id": "Tjko3pM55nr-"
      },
      "source": [
        "**3.Function that deals with distancing , clustering and plotting**"
      ]
    },
    {
      "cell_type": "code",
      "metadata": {
        "id": "hhz5LiW5yoxi"
      },
      "source": [
        "def hierarchical_clustering(data,linkage,no_of_clusters):  \n",
        "    #first step is to calculate the initial distance matrix\n",
        "    #it consists distances from all the point to all the point\n",
        "    color = ['r','g','b','y','c','m','k','w']\n",
        "    initial_distances = pairwise_distances(data,metric='euclidean')\n",
        "    #making all the diagonal elements infinity \n",
        "    np.fill_diagonal(initial_distances,sys.maxsize)\n",
        "    clusters = find_clusters(initial_distances,linkage) \n",
        "    \n",
        "    #plotting the clusters\n",
        "    iteration_number = initial_distances.shape[0] - no_of_clusters\n",
        "    clusters_to_plot = clusters[iteration_number]\n",
        "    arr = np.unique(clusters_to_plot)\n",
        "    \n",
        "    indices_to_plot = []\n",
        "    fig = plt.figure()\n",
        "    fig.suptitle('Scatter Plot for clusters')\n",
        "    ax = fig.add_subplot(1,1,1)\n",
        "    ax.set_xlabel('X')\n",
        "    ax.set_ylabel('Y')\n",
        "    for x in np.nditer(arr):\n",
        "        indices_to_plot.append(np.where(clusters_to_plot==x))\n",
        "    p=0\n",
        "    \n",
        "    print(clusters_to_plot)\n",
        "    for i in range(0,len(indices_to_plot)):\n",
        "        for j in np.nditer(indices_to_plot[i]):\n",
        "               ax.scatter(data[j,0],data[j,1], c= color[p])\n",
        "        p = p + 1\n",
        "        \n",
        "    plt.show()"
      ],
      "execution_count": null,
      "outputs": []
    },
    {
      "cell_type": "markdown",
      "metadata": {
        "id": "-DpiylFn575a"
      },
      "source": [
        "**4.This function finds minimum element and updates proximity matrix.**"
      ]
    },
    {
      "cell_type": "code",
      "metadata": {
        "id": "hcoa5Qmzy9s4"
      },
      "source": [
        "def find_clusters(input,linkage):\n",
        "    clusters = {}\n",
        "    row_index = -1\n",
        "    col_index = -1\n",
        "    array = []\n",
        "    \n",
        "\n",
        "    for n in range(input.shape[0]):\n",
        "        array.append(n)\n",
        "        \n",
        "    clusters[0] = array.copy()\n",
        "\n",
        "    #finding minimum value from the distance matrix\n",
        "    #note that this loop will always return minimum value from bottom triangle of matrix\n",
        "    for k in range(1, input.shape[0]):\n",
        "        min_val = sys.maxsize\n",
        "        \n",
        "        for i in range(0, input.shape[0]):\n",
        "            for j in range(0, input.shape[1]):\n",
        "                if(input[i][j]<=min_val):\n",
        "                    min_val = input[i][j]\n",
        "                    row_index = i\n",
        "                    col_index = j\n",
        "        \n",
        "        #once we find the minimum value, we need to update the distance matrix\n",
        "        #updating the matrix by calculating the new distances from the cluster to all points\n",
        "        \n",
        "        #for Single Linkage\n",
        "        if(linkage == \"single\" or linkage ==\"Single\"):\n",
        "            for i in range(0,input.shape[0]):\n",
        "                if(i != col_index):\n",
        "                    #we calculate the distance of every data point from newly formed cluster and update the matrix.\n",
        "                    temp = min(input[col_index][i],input[row_index][i])\n",
        "                    #we update the matrix symmetrically as our distance matrix should always be symmetric\n",
        "                    input[col_index][i] = temp\n",
        "                    input[i][col_index] = temp\n",
        "        #for Complete Linkage\n",
        "        elif(linkage==\"Complete\" or linkage == \"complete\"):\n",
        "             for i in range(0,input.shape[0]):\n",
        "                if(i != col_index and i!=row_index):\n",
        "                    temp = min(input[col_index][i],input[row_index][i])\n",
        "                    input[col_index][i] = temp\n",
        "                    input[i][col_index] = temp\n",
        "        #for Average Linkage\n",
        "        elif(linkage==\"Average\" or linkage == \"average\"):\n",
        "             for i in range(0,input.shape[0]):\n",
        "                if(i != col_index and i!=row_index):\n",
        "                    temp = (input[col_index][i]+input[row_index][i])/2\n",
        "                    input[col_index][i] = temp\n",
        "                    input[i][col_index] = temp\n",
        "        \n",
        "        elif(linkage==\"Centroid\" or linkage ==\"centroid\"):\n",
        "            for i in range(0,input.shape[0]):\n",
        "                if(i!=col_index and i!=row_index):\n",
        "                    dist_centroid = cal_dist_from_centroid(i,row_index,col_index)\n",
        "                    input[col_index][i] = dist_centroid\n",
        "                    input[i][col_index] = dist_centroid\n",
        "                   \n",
        "        #set the rows and columns for the cluster with higher index i.e. the row index to infinity\n",
        "        #Set input[row_index][for_all_i] = infinity\n",
        "        #set input[for_all_i][row_index] = infinity\n",
        "        for i in range (0,input.shape[0]):\n",
        "            input[row_index][i] = sys.maxsize\n",
        "            input[i][row_index] = sys.maxsize\n",
        "            \n",
        "        #Manipulating the dictionary to keep track of cluster formation in each step\n",
        "        #if k=0,then all datapoints are clusters\n",
        "       \n",
        "        minimum = min(row_index,col_index)\n",
        "        maximum = max(row_index,col_index)\n",
        "        for n in range(len(array)):\n",
        "            if(array[n]==maximum):\n",
        "                array[n] = minimum\n",
        "        clusters[k] = array.copy()\n",
        "           \n",
        "    return clusters"
      ],
      "execution_count": null,
      "outputs": []
    },
    {
      "cell_type": "markdown",
      "metadata": {
        "id": "qUeFE0UxaJp8"
      },
      "source": [
        "**5.different clusters shown as different colors**"
      ]
    },
    {
      "cell_type": "code",
      "metadata": {
        "id": "LY4IHp1zzkOY",
        "colab": {
          "base_uri": "https://localhost:8080/",
          "height": 345
        },
        "outputId": "c49ce2ce-5d7d-409a-97a8-1b25300d665f"
      },
      "source": [
        "hierarchical_clustering(data,\"single\",6)"
      ],
      "execution_count": null,
      "outputs": [
        {
          "output_type": "stream",
          "text": [
            "[0, 1, 0, 1, 1, 1, 1, 1, 0, 0, 1, 11, 1, 13, 0, 0, 0, 0, 1, 0, 1, 1, 0, 0, 1, 0, 1, 0, 0, 1, 1, 1, 1, 0, 1, 0, 1, 1, 1, 1, 40, 13, 1, 0, 1, 0, 1, 47, 0, 1, 1, 0, 1, 1, 1, 0, 11, 0, 0, 0, 0, 1, 0, 0, 0, 0, 0, 0, 1, 1, 0, 1, 0, 1, 0, 0, 1, 1, 0, 1, 1, 1, 1, 0, 0, 1, 1, 0, 1, 1, 0, 1, 1, 1, 0, 1, 1, 1, 0, 1]\n"
          ],
          "name": "stdout"
        },
        {
          "output_type": "display_data",
          "data": {
            "image/png": "[encoded data removed]",
            "text/plain": [
              "<Figure size 432x288 with 1 Axes>"
            ]
          },
          "metadata": {
            "tags": [],
            "needs_background": "light"
          }
        }
      ]
    },
    {
      "cell_type": "markdown",
      "metadata": {
        "id": "hlDwHRSgaND0"
      },
      "source": [
        "**6.DATA POINTS WITH SMALEEST EUCLIDEAN DISTANCE BETWEEN ARE TAKEN INTO SINGLE CLUSTERS**\n"
      ]
    },
    {
      "cell_type": "markdown",
      "metadata": {
        "id": "19_jbITo5Lnu"
      },
      "source": [
        "* Data point (2,5) clustered together"
      ]
    },
    {
      "cell_type": "code",
      "metadata": {
        "id": "kzzFf6XV0JnT",
        "colab": {
          "base_uri": "https://localhost:8080/",
          "height": 325
        },
        "outputId": "ead34198-72da-41d4-e710-2f5f26511ef2"
      },
      "source": [
        "hierarchical_clustering(data,\"single\",5)\n",
        "#you can see that the color of data[2] and data[5] became same, thus they are in same cluster now"
      ],
      "execution_count": null,
      "outputs": [
        {
          "output_type": "stream",
          "text": [
            "[0, 1, 1, 3, 3, 3, 6, 0, 8, 3, 0, 3, 3, 0, 1, 3, 0, 3, 3, 3, 0, 0, 3, 3, 0, 1, 3, 8, 3, 3, 3, 1, 3, 1, 3, 1, 3, 3, 3, 1, 1, 8, 3, 0, 3, 3, 6, 3, 3, 3]\n"
          ],
          "name": "stdout"
        },
        {
          "output_type": "display_data",
          "data": {
            "image/png": "[encoded data removed]",
            "text/plain": [
              "<Figure size 432x288 with 1 Axes>"
            ]
          },
          "metadata": {
            "tags": [],
            "needs_background": "light"
          }
        }
      ]
    },
    {
      "cell_type": "markdown",
      "metadata": {
        "id": "qGMrZEexaXot"
      },
      "source": [
        "**AND THIS PROCESS GOES ON UNTIL THERE IS ONE SINGLE CLUSTER**"
      ]
    },
    {
      "cell_type": "markdown",
      "metadata": {
        "id": "g_A7qjT56ihd"
      },
      "source": [
        "* Data point (1,4) is new cluster after (2,5)"
      ]
    },
    {
      "cell_type": "code",
      "metadata": {
        "id": "5PCWuwD21a1K",
        "colab": {
          "base_uri": "https://localhost:8080/",
          "height": 325
        },
        "outputId": "8dee7e36-67d1-4cc9-c802-f6315a074e28"
      },
      "source": [
        "hierarchical_clustering(data,\"single\",4)\n",
        "#you can see that the color of data[1] and data[4] also became same in color, thus they are in same cluster nowproximity.shape"
      ],
      "execution_count": null,
      "outputs": [
        {
          "output_type": "stream",
          "text": [
            "[0, 1, 1, 3, 3, 3, 3, 0, 8, 3, 0, 3, 3, 0, 1, 3, 0, 3, 3, 3, 0, 0, 3, 3, 0, 1, 3, 8, 3, 3, 3, 1, 3, 1, 3, 1, 3, 3, 3, 1, 1, 8, 3, 0, 3, 3, 3, 3, 3, 3]\n"
          ],
          "name": "stdout"
        },
        {
          "output_type": "display_data",
          "data": {
            "image/png": "[encoded data removed]",
            "text/plain": [
              "<Figure size 432x288 with 1 Axes>"
            ]
          },
          "metadata": {
            "tags": [],
            "needs_background": "light"
          }
        }
      ]
    },
    {
      "cell_type": "markdown",
      "metadata": {
        "id": "4fLRO7gZ6qY1"
      },
      "source": [
        "* data points (1,4) and (2,5) are now one single cluster"
      ]
    },
    {
      "cell_type": "code",
      "metadata": {
        "id": "MFsUCXSVwp7Q",
        "colab": {
          "base_uri": "https://localhost:8080/",
          "height": 325
        },
        "outputId": "551a1a05-dc8a-46c1-f672-90876a0a2587"
      },
      "source": [
        "hierarchical_clustering(data,\"single\",3)\n"
      ],
      "execution_count": null,
      "outputs": [
        {
          "output_type": "stream",
          "text": [
            "[0, 1, 1, 0, 0, 0, 0, 0, 8, 0, 0, 0, 0, 0, 1, 0, 0, 0, 0, 0, 0, 0, 0, 0, 0, 1, 0, 8, 0, 0, 0, 1, 0, 1, 0, 1, 0, 0, 0, 1, 1, 8, 0, 0, 0, 0, 0, 0, 0, 0]\n"
          ],
          "name": "stdout"
        },
        {
          "output_type": "display_data",
          "data": {
            "image/png": "[encoded data removed]",
            "text/plain": [
              "<Figure size 432x288 with 1 Axes>"
            ]
          },
          "metadata": {
            "tags": [],
            "needs_background": "light"
          }
        }
      ]
    },
    {
      "cell_type": "markdown",
      "metadata": {
        "id": "K7V3Qwej6y1j"
      },
      "source": [
        "* It goes on and adds data point (3) with [ [1,4] , [2,5] ]"
      ]
    },
    {
      "cell_type": "code",
      "metadata": {
        "id": "_8aSQBxgPZcI",
        "colab": {
          "base_uri": "https://localhost:8080/",
          "height": 325
        },
        "outputId": "fb9edf46-9171-465c-8b6e-f250de32f5d3"
      },
      "source": [
        "hierarchical_clustering(data,\"single\",2)"
      ],
      "execution_count": null,
      "outputs": [
        {
          "output_type": "stream",
          "text": [
            "[0, 0, 0, 0, 0, 0, 0, 0, 8, 0, 0, 0, 0, 0, 0, 0, 0, 0, 0, 0, 0, 0, 0, 0, 0, 0, 0, 8, 0, 0, 0, 0, 0, 0, 0, 0, 0, 0, 0, 0, 0, 8, 0, 0, 0, 0, 0, 0, 0, 0]\n"
          ],
          "name": "stdout"
        },
        {
          "output_type": "display_data",
          "data": {
            "image/png": "[encoded data removed]",
            "text/plain": [
              "<Figure size 432x288 with 1 Axes>"
            ]
          },
          "metadata": {
            "tags": [],
            "needs_background": "light"
          }
        }
      ]
    },
    {
      "cell_type": "markdown",
      "metadata": {
        "id": "l2UhvRMJ6-bc"
      },
      "source": [
        "* Finally one single cluster is there : [ [2,5] , [1,4] , [3] , [0] ]"
      ]
    },
    {
      "cell_type": "code",
      "metadata": {
        "id": "Jwc4jF3dzGXF",
        "colab": {
          "base_uri": "https://localhost:8080/",
          "height": 325
        },
        "outputId": "b5ffbbde-ffcd-4132-8ad3-c825fd95f64f"
      },
      "source": [
        "hierarchical_clustering(data,\"single\",1)"
      ],
      "execution_count": null,
      "outputs": [
        {
          "output_type": "stream",
          "text": [
            "[0, 0, 0, 0, 0, 0, 0, 0, 0, 0, 0, 0, 0, 0, 0, 0, 0, 0, 0, 0, 0, 0, 0, 0, 0, 0, 0, 0, 0, 0, 0, 0, 0, 0, 0, 0, 0, 0, 0, 0, 0, 0, 0, 0, 0, 0, 0, 0, 0, 0]\n"
          ],
          "name": "stdout"
        },
        {
          "output_type": "display_data",
          "data": {
            "image/png": "[encoded data removed]",
            "text/plain": [
              "<Figure size 432x288 with 1 Axes>"
            ]
          },
          "metadata": {
            "tags": [],
            "needs_background": "light"
          }
        }
      ]
    },
    {
      "cell_type": "markdown",
      "metadata": {
        "id": "34xsx79g7yVQ"
      },
      "source": [
        "**7.Final representation using dendrogram**"
      ]
    },
    {
      "cell_type": "code",
      "metadata": {
        "id": "Jk8Rs8cT74oV",
        "colab": {
          "base_uri": "https://localhost:8080/",
          "height": 429
        },
        "outputId": "bb797f40-6dae-489c-c8aa-58fcd1438543"
      },
      "source": [
        "from scipy.cluster.hierarchy import dendrogram, linkage\n",
        "from matplotlib import pyplot as plt\n",
        "\n",
        "linked = linkage(data, 'single')\n",
        "\n",
        "labelList = range(0, 50)\n",
        "\n",
        "plt.figure(figsize=(10, 7))\n",
        "dendrogram(linked,\n",
        "            orientation='top',\n",
        "            labels=labelList,\n",
        "            distance_sort='ascending',\n",
        "            show_leaf_counts=True)\n",
        "plt.show()"
      ],
      "execution_count": null,
      "outputs": [
        {
          "output_type": "display_data",
          "data": {
            "image/png": "[encoded data removed]",
            "text/plain": [
              "<Figure size 720x504 with 1 Axes>"
            ]
          },
          "metadata": {
            "tags": [],
            "needs_background": "light"
          }
        }
      ]
    },
    {
      "cell_type": "code",
      "metadata": {
        "id": "DTMNkzvzztWt"
      },
      "source": [
        ""
      ],
      "execution_count": null,
      "outputs": []
    }
  ]
}