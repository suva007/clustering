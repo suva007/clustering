{
  "nbformat": 4,
  "nbformat_minor": 0,
  "metadata": {
    "colab": {
      "name": "dc_last.ipynb",
      "provenance": [],
      "collapsed_sections": []
    },
    "kernelspec": {
      "name": "python3",
      "display_name": "Python 3"
    }
  },
  "cells": [
    {
      "cell_type": "code",
      "metadata": {
        "id": "Lua13SNNV9FK",
        "colab": {
          "base_uri": "https://localhost:8080/"
        },
        "outputId": "09ae5227-21e8-43c7-e9bc-6bab2326a429"
      },
      "source": [
        "from google.colab import drive\n",
        "drive.mount('/content/drive')\n"
      ],
      "execution_count": null,
      "outputs": [
        {
          "output_type": "stream",
          "text": [
            "Mounted at /content/drive\n"
          ],
          "name": "stdout"
        }
      ]
    },
    {
      "cell_type": "code",
      "metadata": {
        "id": "-jL7iEtIWDIE"
      },
      "source": [
        "import pandas as pd\n",
        "df = pd.read_csv('/content/drive/My Drive/dataset/breast.csv')\n",
        "df=df[:500]"
      ],
      "execution_count": null,
      "outputs": []
    },
    {
      "cell_type": "code",
      "metadata": {
        "id": "FvTlWJUXWOEu",
        "colab": {
          "base_uri": "https://localhost:8080/"
        },
        "outputId": "5e5db8b2-1905-4b25-f4ec-2c28a2c4ce75"
      },
      "source": [
        "import numpy as np \n",
        "import math\n",
        "entropy=np.array(np.zeros((9,1), dtype=float))\n",
        "val=0\n",
        "bro=0\n",
        "for j in range(0,9):\n",
        "  category=set(df.iloc[:,j])\n",
        "  cnt=0\n",
        "  val=0\n",
        "  print(category)\n",
        "  for z in category:\n",
        "    cnt=0\n",
        "    for i in range(277):\n",
        "      if(df.iloc[i][j]==z):\n",
        "        cnt+=1\n",
        "    prob=cnt/277\n",
        "    log_prob=math.log(prob)\n",
        "    val+=(prob*log_prob)\n",
        "  if(bro<9):\n",
        "    entropy[bro]=-1*val\n",
        "    bro+=1\n",
        "    \n",
        "  category={}\n",
        "print(entropy)\n",
        "# ordinal = [0,2,3,5]\n",
        "# nominal = [1,4,6,7,8]"
      ],
      "execution_count": null,
      "outputs": [
        {
          "output_type": "stream",
          "text": [
            "{'40-49', '70-79', '60-69', '20-29', '50-59', '30-39'}\n",
            "{'premeno', 'ge40', 'lt40'}\n",
            "{'5-9', '0-4', '45-49', '40-44', '35-39', '15-19', '25-29', '20-24', '50-54', '10-14', '30-34'}\n",
            "{'15-17', '3-5', '9-11', '6-8', '12-14', '0-2', '24-26'}\n",
            "{'yes', 'no'}\n",
            "{1, 2, 3}\n",
            "{'left', 'right'}\n",
            "{'central', 'right_low', 'left_up', 'right_up', 'left_low'}\n",
            "{'yes', 'no'}\n",
            "[[1.40945415]\n",
            " [0.76649453]\n",
            " [2.10846755]\n",
            " [0.88655719]\n",
            " [0.5033906 ]\n",
            " [1.05801032]\n",
            " [0.6920455 ]\n",
            " [1.38997295]\n",
            " [0.53170881]]\n"
          ],
          "name": "stdout"
        }
      ]
    },
    {
      "cell_type": "code",
      "metadata": {
        "id": "-QNTy-TFWbCe",
        "colab": {
          "base_uri": "https://localhost:8080/"
        },
        "outputId": "d06469c4-9522-4386-b87c-041838379061"
      },
      "source": [
        "classes=set(df.iloc[:,9])\n",
        "classes"
      ],
      "execution_count": null,
      "outputs": [
        {
          "output_type": "execute_result",
          "data": {
            "text/plain": [
              "{'no-recurrence-events', 'recurrence-events'}"
            ]
          },
          "metadata": {
            "tags": []
          },
          "execution_count": 6
        }
      ]
    },
    {
      "cell_type": "code",
      "metadata": {
        "id": "u_wTyai9WnAX",
        "colab": {
          "base_uri": "https://localhost:8080/"
        },
        "outputId": "eb27e6d3-3f02-4941-a1cb-50a820dfd378"
      },
      "source": [
        "weight=np.array(np.zeros((9,1),dtype=float))\n",
        "for i in range(9):\n",
        "  weight[i]=entropy[i]/np.sum(entropy)\n",
        "weight"
      ],
      "execution_count": null,
      "outputs": [
        {
          "output_type": "execute_result",
          "data": {
            "text/plain": [
              "array([[0.15080664],\n",
              "       [0.08201222],\n",
              "       [0.22559861],\n",
              "       [0.0948585 ],\n",
              "       [0.05386102],\n",
              "       [0.11320338],\n",
              "       [0.07404643],\n",
              "       [0.14872222],\n",
              "       [0.05689097]])"
            ]
          },
          "metadata": {
            "tags": []
          },
          "execution_count": 7
        }
      ]
    },
    {
      "cell_type": "code",
      "metadata": {
        "id": "k0EzY4W1XaC-",
        "colab": {
          "base_uri": "https://localhost:8080/"
        },
        "outputId": "8445a319-6520-4a6b-f997-819080387ded"
      },
      "source": [
        "#distance matrix will be of the form attribute * attribute (6*6) in this case :\n",
        "#applying algorithm : \n",
        "ordinal=[0,2,3,5]\n",
        "nominal=[1,4,6,7,8]\n",
        "distance_mat=np.array(np.zeros((9,9),dtype=float))\n",
        "v_mat=np.array(np.zeros((9,9),dtype=float))\n",
        "for i in ordinal :\n",
        "  for j in range(9):\n",
        "      start=min(i,j)\n",
        "      end=max(i,j)\n",
        "      sum=0\n",
        "      for i in range(start,end):\n",
        "        if(i in ordinal):\n",
        "          sum+=entropy[i]\n",
        "      if(j in ordinal and i != j):\n",
        "        v_mat[j][i]=weight[i]*sum\n",
        "#nominal which is not in order so will be directly adding the sum thing here in this .\n",
        "for i in nominal :\n",
        "  for j in range(9):\n",
        "    start=min(i,j)\n",
        "    end=max(i,j)\n",
        "    sum=0\n",
        "    if(j in nominal and i != j):\n",
        "      v_mat[j][i]=weight[i]*(entropy[start]+entropy[end])\n",
        "v_mat\n"
      ],
      "execution_count": null,
      "outputs": [
        {
          "output_type": "execute_result",
          "data": {
            "text/plain": [
              "array([[0.        , 0.11559246, 0.79363826, 0.        , 0.23722974,\n",
              "        0.        , 0.        , 0.        , 0.        ],\n",
              "       [0.        , 0.        , 0.        , 0.        , 0.06839731,\n",
              "        0.        , 0.10799969, 0.32071463, 0.07385605],\n",
              "       [0.        , 0.        , 0.        , 0.        , 0.        ,\n",
              "        0.        , 0.        , 0.        , 0.        ],\n",
              "       [0.        , 0.        , 0.47566735, 0.        , 0.        ,\n",
              "        0.        , 0.        , 0.        , 0.        ],\n",
              "       [0.        , 0.1041461 , 0.        , 0.        , 0.        ,\n",
              "        0.        , 0.08851778, 0.28158523, 0.05888781],\n",
              "       [0.        , 0.        , 0.        , 0.        , 0.04775088,\n",
              "        0.        , 0.        , 0.        , 0.        ],\n",
              "       [0.        , 0.1196181 , 0.        , 0.        , 0.06438741,\n",
              "        0.        , 0.        , 0.3096424 , 0.06962057],\n",
              "       [0.        , 0.17685668, 0.        , 0.        , 0.1019785 ,\n",
              "        0.        , 0.15416604, 0.        , 0.10932635],\n",
              "       [0.        , 0.10646854, 0.        , 0.        , 0.05575151,\n",
              "        0.        , 0.09061464, 0.28579677, 0.        ]])"
            ]
          },
          "metadata": {
            "tags": []
          },
          "execution_count": 9
        }
      ]
    },
    {
      "cell_type": "code",
      "metadata": {
        "id": "ucWesRYvXkSC"
      },
      "source": [
        "def distance(a,b):\n",
        "  sum=0\n",
        "  for i in range(9):\n",
        "    sum+=((a[i]-b[i])**2)\n",
        "  return math.sqrt(sum)"
      ],
      "execution_count": null,
      "outputs": []
    },
    {
      "cell_type": "code",
      "metadata": {
        "id": "TWg7X4u3Xsis",
        "colab": {
          "base_uri": "https://localhost:8080/"
        },
        "outputId": "62d8a2d8-4bda-4d40-b2ca-9e0181a9ab12"
      },
      "source": [
        "#now will be calculating distance matrix : \n",
        "for i in range(9):\n",
        "  for j in range(9):\n",
        "    distance_mat[i][j]=distance(v_mat[i],v_mat[j])\n",
        "distance_mat\n"
      ],
      "execution_count": null,
      "outputs": [
        {
          "output_type": "execute_result",
          "data": {
            "text/plain": [
              "array([[0.        , 0.88977762, 0.83636191, 0.4132131 , 0.88139892,\n",
              "        0.82409073, 0.87205378, 0.82923296, 0.86762324],\n",
              "       [0.88977762, 0.        , 0.35306474, 0.59238007, 0.13288832,\n",
              "        0.34699106, 0.16164478, 0.37236182, 0.13591055],\n",
              "       [0.83636191, 0.35306474, 0.        , 0.47566735, 0.31849619,\n",
              "        0.04775088, 0.34522409, 0.27820374, 0.32300865],\n",
              "       [0.4132131 , 0.59238007, 0.47566735, 0.        , 0.57245022,\n",
              "        0.47805813, 0.58774068, 0.55105059, 0.57497306],\n",
              "       [0.88139892, 0.13288832, 0.31849619, 0.57245022, 0.        ,\n",
              "        0.32205585, 0.1145553 , 0.3191088 , 0.08126213],\n",
              "       [0.82409073, 0.34699106, 0.04775088, 0.47805813, 0.32205585,\n",
              "        0.        , 0.3395743 , 0.26445858, 0.31826148],\n",
              "       [0.87205378, 0.16164478, 0.34522409, 0.58774068, 0.1145553 ,\n",
              "        0.3395743 , 0.        , 0.35484007, 0.11778855],\n",
              "       [0.82923296, 0.37236182, 0.27820374, 0.55105059, 0.3191088 ,\n",
              "        0.26445858, 0.35484007, 0.        , 0.32366997],\n",
              "       [0.86762324, 0.13591055, 0.32300865, 0.57497306, 0.08126213,\n",
              "        0.31826148, 0.11778855, 0.32366997, 0.        ]])"
            ]
          },
          "metadata": {
            "tags": []
          },
          "execution_count": 12
        }
      ]
    },
    {
      "cell_type": "markdown",
      "metadata": {
        "id": "0nbU9uFtJfJu"
      },
      "source": [
        "NOW APPLYING K-MODE ALGORITHM ON IT\n",
        "* NUMBER OF CLUSTERS WILL BE : TWO [2]"
      ]
    },
    {
      "cell_type": "code",
      "metadata": {
        "id": "xsIR1EZdLluw"
      },
      "source": [
        "def belongs(mode1,mode2):\n",
        "  belongsto=np.array(np.zeros((277,2)),dtype=int)\n",
        "  for i in range(277):\n",
        "    #for cluster1 : \n",
        "    cnt=0\n",
        "    if(df[i][0]!=mode1[0]):\n",
        "      cnt+=1\n",
        "    if(df[i][1]!=mode1[1]):\n",
        "      cnt+=1\n",
        "    if(df[i][2]!=mode1[2]):\n",
        "      cnt+=1\n",
        "    if(df[i][3]!=mode1[3]):\n",
        "      cnt+=1\n",
        "    if(df[i][4]!=mode1[4]):\n",
        "      cnt+=1\n",
        "    if(df[i][5]!=mode1[5]):\n",
        "      cnt+=1\n",
        "    if(df[i][6]!=mode1[6]):\n",
        "      cnt+=1\n",
        "    if(df[i][7]!=mode1[7]):\n",
        "      cnt+=1\n",
        "    if(df[i][8]!=mode1[8]):\n",
        "      cnt+=1\n",
        "    if(df[i][9]!=mode1[9]):\n",
        "      cnt+=1\n",
        "    belongsto[i][0]=cnt\n",
        "\n",
        "    #for cluster 2\n",
        "    cnt=0\n",
        "    if(df[i][0]!=mode1[0]):\n",
        "      cnt+=1\n",
        "    if(df[i][1]!=mode1[1]):\n",
        "      cnt+=1\n",
        "    if(df[i][2]!=mode1[2]):\n",
        "      cnt+=1\n",
        "    if(df[i][3]!=mode1[3]):\n",
        "      cnt+=1\n",
        "    if(df[i][4]!=mode1[4]):\n",
        "      cnt+=1\n",
        "    if(df[i][5]!=mode1[5]):\n",
        "      cnt+=1\n",
        "    if(df[i][6]!=mode1[6]):\n",
        "      cnt+=1\n",
        "    if(df[i][7]!=mode1[7]):\n",
        "      cnt+=1\n",
        "    if(df[i][8]!=mode1[8]):\n",
        "      cnt+=1\n",
        "    if(df[i][9]!=mode1[9]):\n",
        "      cnt+=1\n",
        "    belongsto[i][0]=cnt\n",
        "    cnt=0\n",
        "\n",
        "#now finding the cluster in which the particular point belongs to and this functon will return that list only : \n",
        "  cluster=np.array(np.zeros((277,1)),dtype=int)\n",
        "  min=10000\n",
        "  pos=0\n",
        "  for i in range(277):\n",
        "   min=10000\n",
        "   for j in range(2):\n",
        "      if(min>belongsto[i][j]):\n",
        "        min=belongsto[i][j]\n",
        "        # print(min)\n",
        "        pos=j\n",
        "      \n",
        "   cluster[i]=pos\n",
        "   # print(pos)\n",
        "#now we will be finding for the points that belongs to each cluster and will return that from this function : \n",
        "  #finding points that belong to each cluster till now:\n",
        "  cluster1=[]\n",
        "  cluster2=[]\n",
        "  for i in range(277):\n",
        "    if(cluster[i]==0):\n",
        "      cluster1.append(i)\n",
        "    if(cluster[i]==1):\n",
        "      cluster2.append(i)\n",
        "  return cluster1,cluster2"
      ],
      "execution_count": null,
      "outputs": []
    },
    {
      "cell_type": "code",
      "metadata": {
        "id": "QTU1GpBoJeSD"
      },
      "source": [
        "def mode(cluster1,cluster2) :\n",
        "  clus11={'40-49':0, '70-79':0, '60-69':0, '20-29':0, '50-59':0, '30-39':0}\n",
        "  clus12={'premeno', 'ge40', 'lt40'}\n",
        "  clus13={'5-9':0, '0-4':0, '45-49':0, '40-44':0, '35-39':0, '15-19':0, '25-29':0, '20-24':0, '50-54':0, '10-14':0, '30-34':0}\n",
        "  clus14={'15-17':0, '3-5':0, '9-11':0, '6-8':0, '12-14':0, '0-2':0, '24-26':0}\n",
        "  clus15={'yes':0, 'no':0}\n",
        "  clus16={1:0, 2:0, 3:0}\n",
        "  clus17={'left':0, 'right':0}\n",
        "  clus18={'central':0, 'right_low':0, 'left_up':0, 'right_up':0, 'left_low':0}\n",
        "  clus19={'yes':0, 'no':0}\n",
        "  for i in cluster1:\n",
        "    x=df[i][0:9]\n",
        "  # print(x)\n",
        "    clus11[x[0]]+=1\n",
        "    clus12[x[1]]+=1\n",
        "    clus13[x[2]]+=1\n",
        "    clus14[x[3]]+=1\n",
        "    clus15[x[4]]+=1\n",
        "    clus16[x[5]]+=1\n",
        "    clus17[x[6]]+=1\n",
        "    clus18[x[7]]+=1\n",
        "    clus19[x[8]]+=1\n",
        "  keymax1 = max(clus11, key=clus11.get)\n",
        "  keymax2 = max(clus12, key=clus12.get)\n",
        "  keymax3 = max(clus13, key=clus13.get)\n",
        "  keymax4 = max(clus14, key=clus14.get)\n",
        "  keymax5 = max(clus15, key=clus15.get)\n",
        "  keymax6 = max(clus16, key=clus16.get)\n",
        "  keymax7 = max(clus17, key=clus17.get)\n",
        "  keymax8 = max(clus18, key=clus18.get)\n",
        "  keymax9 = max(clus19, key=clus19.get)\n",
        "  #mode for cluster1\n",
        "\n",
        "  mode1=np.array([keymax1,keymax2,keymax3,keymax4,keymax5,keymax6,keymax7,keymax8,keymax9])\n",
        "  clus11={'40-49':0, '70-79':0, '60-69':0, '20-29':0, '50-59':0, '30-39':0}\n",
        "  clus12={'premeno', 'ge40', 'lt40'}\n",
        "  clus13={'5-9':0, '0-4':0, '45-49':0, '40-44':0, '35-39':0, '15-19':0, '25-29':0, '20-24':0, '50-54':0, '10-14':0, '30-34':0}\n",
        "  clus14={'15-17':0, '3-5':0, '9-11':0, '6-8':0, '12-14':0, '0-2':0, '24-26':0}\n",
        "  clus15={'yes':0, 'no':0}\n",
        "  clus16={1:0, 2:0, 3:0}\n",
        "  clus17={'left':0, 'right':0}\n",
        "  clus18={'central':0, 'right_low':0, 'left_up':0, 'right_up':0, 'left_low':0}\n",
        "  clus19={'yes':0, 'no':0}\n",
        "  #mode for cluster2\n",
        "\n",
        "  for i in cluster2:\n",
        "    x=df[i][0:9]\n",
        "  # print(x)\n",
        "    clus11[x[0]]+=1\n",
        "    clus12[x[1]]+=1\n",
        "    clus13[x[2]]+=1\n",
        "    clus14[x[3]]+=1\n",
        "    clus15[x[4]]+=1\n",
        "    clus16[x[5]]+=1\n",
        "    clus17[x[6]]+=1\n",
        "    clus18[x[7]]+=1\n",
        "    clus19[x[8]]+=1\n",
        "  keymax1 = max(clus11, key=clus11.get)\n",
        "  keymax2 = max(clus12, key=clus12.get)\n",
        "  keymax3 = max(clus13, key=clus13.get)\n",
        "  keymax4 = max(clus14, key=clus14.get)\n",
        "  keymax5 = max(clus15, key=clus15.get)\n",
        "  keymax6 = max(clus16, key=clus16.get)\n",
        "  keymax7 = max(clus17, key=clus17.get)\n",
        "  keymax8 = max(clus18, key=clus18.get)\n",
        "  keymax9 = max(clus19, key=clus19.get)\n",
        "  mode2=np.array([keymax1,keymax2,keymax3,keymax4,keymax5,keymax6,keymax7,keymax8,keymax9])"
      ],
      "execution_count": null,
      "outputs": []
    },
    {
      "cell_type": "code",
      "metadata": {
        "id": "CofikR7ELa5P"
      },
      "source": [
        "#main algorithm for kmode : \n",
        "cluster1_new=[]\n",
        "cluster2_new=[]\n",
        "cluster3_new=[]\n",
        "cluster4_new=[]\n",
        "while(cluster1!=cluster1_new and cluster2!=cluster2_new and cluster3!=cluster3_new and cluster4!=cluster4_new):\n",
        "  cluster1_new,cluster2_new,cluster3_new,cluster4_new = belongs(mode1,mode2,mode3,mode4)"
      ],
      "execution_count": null,
      "outputs": []
    },
    {
      "cell_type": "code",
      "metadata": {
        "colab": {
          "base_uri": "https://localhost:8080/"
        },
        "id": "BsM7Y4oKMozQ",
        "outputId": "ba11458d-0724-471b-faf4-dd14b0ca9038"
      },
      "source": [
        "#finds four random numbers between 0 and 277\n",
        "import random\n",
        "def Rand(start, end, num): \n",
        "    res = [] \n",
        "  \n",
        "    for j in range(num): \n",
        "        res.append(random.randint(start, end)) \n",
        "  \n",
        "    return res \n",
        "print(Rand(0, 277, 2)) \n",
        "rand_no=Rand(0,277,2)"
      ],
      "execution_count": null,
      "outputs": [
        {
          "output_type": "stream",
          "text": [
            "[91, 222]\n"
          ],
          "name": "stdout"
        }
      ]
    },
    {
      "cell_type": "code",
      "metadata": {
        "id": "B-EdswAHMrum"
      },
      "source": [
        "import numpy as np\n",
        "belongsto=np.array(np.zeros((277,2)),dtype=int)\n",
        "df=np.array(df)"
      ],
      "execution_count": null,
      "outputs": []
    },
    {
      "cell_type": "code",
      "metadata": {
        "id": "jLNgnISFM9hy"
      },
      "source": [
        "for i in range(277):\n",
        "  cnt=0\n",
        "  for j in range(2):\n",
        "    if(df[i][0]!=df[rand_no[j]][0]):\n",
        "      cnt+=1\n",
        "    if(df[i][1]!=df[rand_no[j]][1]):\n",
        "      cnt+=1\n",
        "    if(df[i][2]!=df[rand_no[j]][2]):\n",
        "      cnt+=1\n",
        "    if(df[i][3]!=df[rand_no[j]][3]):\n",
        "      cnt+=1\n",
        "    if(df[i][4]!=df[rand_no[j]][4]):\n",
        "      cnt+=1\n",
        "    if(df[i][5]!=df[rand_no[j]][5]):\n",
        "      cnt+=1\n",
        "    if(df[i][6]!=df[rand_no[j]][6]):\n",
        "      cnt+=1\n",
        "    if(df[i][7]!=df[rand_no[j]][7]):\n",
        "      cnt+=1\n",
        "    if(df[i][8]!=df[rand_no[j]][8]):\n",
        "      cnt+=1\n",
        "    if(df[i][9]!=df[rand_no[j]][9]):\n",
        "      cnt+=1\n",
        "    belongsto[i][j]=cnt\n",
        "    cnt=0"
      ],
      "execution_count": null,
      "outputs": []
    },
    {
      "cell_type": "code",
      "metadata": {
        "id": "LRHwqbG4N05G"
      },
      "source": [
        "cluster=np.array(np.zeros((277,1)),dtype=int)\n",
        "min=10000\n",
        "pos=0\n",
        "for i in range(277):\n",
        "  min=10000\n",
        "  for j in range(4):\n",
        "    if(min>belongsto[i][j]):\n",
        "      min=belongsto[i][j]\n",
        "      # print(min)\n",
        "      pos=j\n",
        "      \n",
        "  cluster[i]=pos\n",
        "  # print(pos)\n",
        "  #finding points that belong to each cluster till now:\n",
        "cluster1=[]\n",
        "cluster2=[]\n",
        "for i in range(277):\n",
        "  if(cluster[i]==0):\n",
        "    cluster1.append(i)\n",
        "  if(cluster[i]==1):\n",
        "    cluster2.append(i)"
      ],
      "execution_count": null,
      "outputs": []
    }
  ]
}